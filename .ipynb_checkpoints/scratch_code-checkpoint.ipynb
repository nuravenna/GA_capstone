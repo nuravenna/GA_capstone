{
 "cells": [
  {
   "cell_type": "code",
   "execution_count": null,
   "metadata": {},
   "outputs": [],
   "source": []
  },
  {
   "cell_type": "code",
   "execution_count": 230,
   "metadata": {},
   "outputs": [],
   "source": [
    "doc = nlp(\"There is a red card in the blue envelope.\")"
   ]
  },
  {
   "cell_type": "code",
   "execution_count": 229,
   "metadata": {},
   "outputs": [],
   "source": [
    "matcher = Matcher(nlp.vocab)\n",
    "\n",
    "patterns = [\n",
    "        [{'POS':'ADJ'}],\n",
    "    ]\n",
    "#     [{'POS':'ADJ'}, {'POS':'NOUN'}],\n",
    "#     ]\n",
    "# matcher.add(\"demo\", patterns)\n",
    "matcher.add('placeholder', patterns)"
   ]
  },
  {
   "cell_type": "code",
   "execution_count": 232,
   "metadata": {},
   "outputs": [],
   "source": [
    "doc = nlp('the big red dog ran past the small red house')"
   ]
  },
  {
   "cell_type": "code",
   "execution_count": 231,
   "metadata": {},
   "outputs": [
    {
     "name": "stdout",
     "output_type": "stream",
     "text": [
      "red\n",
      "blue\n"
     ]
    }
   ],
   "source": [
    "matches = matcher(doc)\n",
    "for match_id, start, end in matches:\n",
    "    string_id = nlp.vocab.strings[match_id]  # Get string representation\n",
    "    span = doc[start:end]  # The matched span\n",
    "    print(span.text)\n",
    "#     print(match_id, string_id, start, end, span.text)\n",
    "\n",
    "    \n",
    "# from:\n",
    "# https://stackoverflow.com/questions/66790591/spacy-extraction-of-an-adjective-that-precede-a-verb-and-isnt-a-stop-word-nor"
   ]
  },
  {
   "cell_type": "code",
   "execution_count": 233,
   "metadata": {},
   "outputs": [],
   "source": [
    "matches = matcher(doc)\n",
    "adj_list = []\n",
    "for match_id, start, end in matches:\n",
    "    string_id = nlp.vocab.strings[match_id]  # string representation\n",
    "    span = doc[start:end]  # matched span\n",
    "    adj_list.append(span.text)\n",
    "    \n",
    "# create an empty dictionary for our adjective count-\n",
    "adj_count = {}\n",
    "\n",
    "for pos in range(len(adj_list)):\n",
    "    adj_count[adj_list[pos]] = adj_list.count(\n",
    "        adj_list[pos]\n",
    "        )\n",
    "\n",
    "    \n",
    "# from:\n",
    "# https://stackoverflow.com/questions/66790591/spacy-extraction-of-an-adjective-that-precede-a-verb-and-isnt-a-stop-word-nor\n",
    "# https://medium.com/swlh/create-a-dictionary-from-a-list-65742246ab4b"
   ]
  },
  {
   "cell_type": "code",
   "execution_count": 234,
   "metadata": {},
   "outputs": [
    {
     "data": {
      "text/plain": [
       "['big', 'red', 'small', 'red']"
      ]
     },
     "execution_count": 234,
     "metadata": {},
     "output_type": "execute_result"
    }
   ],
   "source": [
    "adj_list"
   ]
  },
  {
   "cell_type": "code",
   "execution_count": 235,
   "metadata": {},
   "outputs": [
    {
     "data": {
      "text/plain": [
       "{'big': 1, 'red': 2, 'small': 1}"
      ]
     },
     "execution_count": 235,
     "metadata": {},
     "output_type": "execute_result"
    }
   ],
   "source": [
    "adj_count"
   ]
  },
  {
   "cell_type": "code",
   "execution_count": 121,
   "metadata": {},
   "outputs": [],
   "source": [
    "# from collections import defaultdict"
   ]
  },
  {
   "cell_type": "code",
   "execution_count": 119,
   "metadata": {},
   "outputs": [],
   "source": [
    "# def count_adjectives(data):\n",
    "#     adjectives = defaultdict(lambda: 0)\n",
    "    \n",
    "#     for i, row in data.iterrows():\n",
    "#         doc = nlp(row[\"clean_content\"])\n",
    "\n",
    "    \n",
    "#     # count only the adjectives\n",
    "#         for a in map(lambda x: x.lemma_, filter(lambda x: x.pos_ == 'ADJ', doc)):\n",
    "#             adjectives[a] += 1\n",
    "#         data.at[i, \"nr_adj\", len(list(map(lambda x: x.text, filter(lambda x: x.pos_ == 'ADJ', doc))))]  \n",
    "    \n",
    "#     return data"
   ]
  },
  {
   "cell_type": "code",
   "execution_count": 120,
   "metadata": {},
   "outputs": [],
   "source": [
    "# count_adjectives(test)"
   ]
  },
  {
   "cell_type": "code",
   "execution_count": null,
   "metadata": {},
   "outputs": [],
   "source": [
    "# count all tokens, but not the punctuations\n",
    "# for i, row in data.iterrows():\n",
    "#     doc = nlp(row[\"name\"] + \" \" + row[\"text\"])\n",
    "#     data.set_value(i, \"nr_token\", len(list(map(lambda x: x.text, \n",
    "#                                  filter(lambda x: x.pos_ != 'PUNCT', doc)))))\n",
    "\n",
    "#     # count only the adjectives\n",
    "#     for a in map(lambda x: x.lemma_, filter(lambda x: x.pos_ == 'ADJ', doc)):\n",
    "#         adjectives[a] += 1\n",
    "#     data.set_value(i, \"nr_adj\", len(list(map(lambda x: x.text, \n",
    "#                                  filter(lambda x: x.pos_ == 'ADJ', doc)))))  \n",
    "\n",
    "#     # count only the nouns\n",
    "#     for n in map(lambda x: x.lemma_, filter(lambda x: x.pos_ == 'NOUN', doc)):\n",
    "#         nouns[n] +=1\n",
    "#     data.set_value(i, \"nr_noun\", len(list(map(lambda x: x.text, \n",
    "#                                  filter(lambda x: x.pos_ == 'NOUN', doc)))))\n",
    "\n",
    "#     # count only the verbs\n",
    "#     for v in map(lambda x: x.lemma_, filter(lambda x: (x.pos_ == 'AUX') | (x.pos_ == 'VERB'), doc)):\n",
    "#         verbs[v] += 1\n",
    "#     data.set_value(i, \"nr_verb\", len(list(map(lambda x: x.text, \n",
    "#                                  filter(lambda x: (x.pos_ == 'AUX') | (x.pos_ == 'VERB'), doc)))))\n",
    "    \n",
    "# from:\n",
    "# https://stackoverflow.com/questions/54390101/python-pandas-spacy-iterate-over-a-dataframe-and-count-the-number-of-pos"
   ]
  }
 ],
 "metadata": {
  "kernelspec": {
   "display_name": "Python 3",
   "language": "python",
   "name": "python3"
  },
  "language_info": {
   "codemirror_mode": {
    "name": "ipython",
    "version": 3
   },
   "file_extension": ".py",
   "mimetype": "text/x-python",
   "name": "python",
   "nbconvert_exporter": "python",
   "pygments_lexer": "ipython3",
   "version": "3.8.5"
  }
 },
 "nbformat": 4,
 "nbformat_minor": 4
}
