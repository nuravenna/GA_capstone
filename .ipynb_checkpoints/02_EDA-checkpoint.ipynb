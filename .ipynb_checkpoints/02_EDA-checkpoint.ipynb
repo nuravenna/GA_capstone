{
 "cells": [
  {
   "cell_type": "markdown",
   "metadata": {},
   "source": [
    "# Exploratory Data Analysis"
   ]
  },
  {
   "cell_type": "code",
   "execution_count": 76,
   "metadata": {},
   "outputs": [
    {
     "name": "stderr",
     "output_type": "stream",
     "text": [
      "[nltk_data] Downloading package stopwords to\n",
      "[nltk_data]     /Users/cynthiaowens/nltk_data...\n",
      "[nltk_data]   Package stopwords is already up-to-date!\n",
      "[nltk_data] Downloading package wordnet to\n",
      "[nltk_data]     /Users/cynthiaowens/nltk_data...\n",
      "[nltk_data]   Package wordnet is already up-to-date!\n"
     ]
    }
   ],
   "source": [
    "import pandas as pd\n",
    "import matplotlib.pyplot as plt\n",
    "import numpy as np\n",
    "import seaborn as sns\n",
    "import plotly.express as px\n",
    "\n",
    "import warnings\n",
    "warnings.filterwarnings(\"ignore\")\n",
    "\n",
    "from sklearn.feature_extraction.text import CountVectorizer, TfidfVectorizer\n",
    "\n",
    "import nltk\n",
    "nltk.download('stopwords')\n",
    "nltk.download('wordnet')\n",
    "from nltk.corpus import stopwords\n",
    "from nltk.sentiment.vader import SentimentIntensityAnalyzer\n",
    "from nltk.stem import WordNetLemmatizer, PorterStemmer\n",
    "from nltk.tokenize import sent_tokenize, word_tokenize, RegexpTokenizer"
   ]
  },
  {
   "cell_type": "markdown",
   "metadata": {},
   "source": [
    "## Read in csvs (cleaned and pre-processed in the previous notebook) as dataframes:"
   ]
  },
  {
   "cell_type": "code",
   "execution_count": 2,
   "metadata": {},
   "outputs": [],
   "source": [
    "clean = pd.read_csv('./data/reddit_clean.csv')"
   ]
  },
  {
   "cell_type": "code",
   "execution_count": 3,
   "metadata": {},
   "outputs": [
    {
     "data": {
      "text/html": [
       "<div>\n",
       "<style scoped>\n",
       "    .dataframe tbody tr th:only-of-type {\n",
       "        vertical-align: middle;\n",
       "    }\n",
       "\n",
       "    .dataframe tbody tr th {\n",
       "        vertical-align: top;\n",
       "    }\n",
       "\n",
       "    .dataframe thead th {\n",
       "        text-align: right;\n",
       "    }\n",
       "</style>\n",
       "<table border=\"1\" class=\"dataframe\">\n",
       "  <thead>\n",
       "    <tr style=\"text-align: right;\">\n",
       "      <th></th>\n",
       "      <th>body</th>\n",
       "      <th>subreddit</th>\n",
       "      <th>word_count</th>\n",
       "    </tr>\n",
       "  </thead>\n",
       "  <tbody>\n",
       "    <tr>\n",
       "      <th>0</th>\n",
       "      <td>die hard trump supporter but i dont think thos...</td>\n",
       "      <td>The_Donald</td>\n",
       "      <td>13</td>\n",
       "    </tr>\n",
       "    <tr>\n",
       "      <th>1</th>\n",
       "      <td>His family begged them to intervene.</td>\n",
       "      <td>The_Donald</td>\n",
       "      <td>6</td>\n",
       "    </tr>\n",
       "    <tr>\n",
       "      <th>2</th>\n",
       "      <td>my man sitting next to trumps right is so on p...</td>\n",
       "      <td>ChapoTrapHouse</td>\n",
       "      <td>11</td>\n",
       "    </tr>\n",
       "    <tr>\n",
       "      <th>3</th>\n",
       "      <td>Those are good reasons. Canada is a great coun...</td>\n",
       "      <td>politics</td>\n",
       "      <td>9</td>\n",
       "    </tr>\n",
       "    <tr>\n",
       "      <th>4</th>\n",
       "      <td>Oy! The Father of Lies title is taken.\\nour lo...</td>\n",
       "      <td>politics</td>\n",
       "      <td>22</td>\n",
       "    </tr>\n",
       "  </tbody>\n",
       "</table>\n",
       "</div>"
      ],
      "text/plain": [
       "                                                body       subreddit  \\\n",
       "0  die hard trump supporter but i dont think thos...      The_Donald   \n",
       "1               His family begged them to intervene.      The_Donald   \n",
       "2  my man sitting next to trumps right is so on p...  ChapoTrapHouse   \n",
       "3  Those are good reasons. Canada is a great coun...        politics   \n",
       "4  Oy! The Father of Lies title is taken.\\nour lo...        politics   \n",
       "\n",
       "   word_count  \n",
       "0          13  \n",
       "1           6  \n",
       "2          11  \n",
       "3           9  \n",
       "4          22  "
      ]
     },
     "execution_count": 3,
     "metadata": {},
     "output_type": "execute_result"
    }
   ],
   "source": [
    "clean.head()"
   ]
  },
  {
   "cell_type": "code",
   "execution_count": 5,
   "metadata": {},
   "outputs": [],
   "source": [
    "extrem = pd.read_csv('./data/extreme.csv')"
   ]
  },
  {
   "cell_type": "code",
   "execution_count": 6,
   "metadata": {},
   "outputs": [
    {
     "data": {
      "text/html": [
       "<div>\n",
       "<style scoped>\n",
       "    .dataframe tbody tr th:only-of-type {\n",
       "        vertical-align: middle;\n",
       "    }\n",
       "\n",
       "    .dataframe tbody tr th {\n",
       "        vertical-align: top;\n",
       "    }\n",
       "\n",
       "    .dataframe thead th {\n",
       "        text-align: right;\n",
       "    }\n",
       "</style>\n",
       "<table border=\"1\" class=\"dataframe\">\n",
       "  <thead>\n",
       "    <tr style=\"text-align: right;\">\n",
       "      <th></th>\n",
       "      <th>body</th>\n",
       "      <th>subreddit</th>\n",
       "      <th>word_count</th>\n",
       "      <th>tokenized</th>\n",
       "      <th>clean_content</th>\n",
       "      <th>extreme</th>\n",
       "    </tr>\n",
       "  </thead>\n",
       "  <tbody>\n",
       "    <tr>\n",
       "      <th>0</th>\n",
       "      <td>die hard trump supporter but i dont think thos...</td>\n",
       "      <td>The_Donald</td>\n",
       "      <td>13</td>\n",
       "      <td>die hard trump supporter dont think videos amo...</td>\n",
       "      <td>die hard trump support dont think video amount...</td>\n",
       "      <td>1</td>\n",
       "    </tr>\n",
       "    <tr>\n",
       "      <th>1</th>\n",
       "      <td>His family begged them to intervene.</td>\n",
       "      <td>The_Donald</td>\n",
       "      <td>6</td>\n",
       "      <td>family begged intervene</td>\n",
       "      <td>famili beg interven</td>\n",
       "      <td>1</td>\n",
       "    </tr>\n",
       "    <tr>\n",
       "      <th>2</th>\n",
       "      <td>my man sitting next to trumps right is so on p...</td>\n",
       "      <td>ChapoTrapHouse</td>\n",
       "      <td>11</td>\n",
       "      <td>man sitting next trumps right point</td>\n",
       "      <td>man sit next trump right point</td>\n",
       "      <td>1</td>\n",
       "    </tr>\n",
       "    <tr>\n",
       "      <th>3</th>\n",
       "      <td>What a bitch</td>\n",
       "      <td>ChapoTrapHouse</td>\n",
       "      <td>3</td>\n",
       "      <td>bitch</td>\n",
       "      <td>bitch</td>\n",
       "      <td>1</td>\n",
       "    </tr>\n",
       "    <tr>\n",
       "      <th>4</th>\n",
       "      <td>We'll have advance notice of them planning to ...</td>\n",
       "      <td>The_Donald</td>\n",
       "      <td>28</td>\n",
       "      <td>we'll advance notice planning attack children ...</td>\n",
       "      <td>we'll advanc notic plan attack children wealth...</td>\n",
       "      <td>1</td>\n",
       "    </tr>\n",
       "  </tbody>\n",
       "</table>\n",
       "</div>"
      ],
      "text/plain": [
       "                                                body       subreddit  \\\n",
       "0  die hard trump supporter but i dont think thos...      The_Donald   \n",
       "1               His family begged them to intervene.      The_Donald   \n",
       "2  my man sitting next to trumps right is so on p...  ChapoTrapHouse   \n",
       "3                                       What a bitch  ChapoTrapHouse   \n",
       "4  We'll have advance notice of them planning to ...      The_Donald   \n",
       "\n",
       "   word_count                                          tokenized  \\\n",
       "0          13  die hard trump supporter dont think videos amo...   \n",
       "1           6                            family begged intervene   \n",
       "2          11                man sitting next trumps right point   \n",
       "3           3                                              bitch   \n",
       "4          28  we'll advance notice planning attack children ...   \n",
       "\n",
       "                                       clean_content  extreme  \n",
       "0  die hard trump support dont think video amount...        1  \n",
       "1                                famili beg interven        1  \n",
       "2                     man sit next trump right point        1  \n",
       "3                                              bitch        1  \n",
       "4  we'll advanc notic plan attack children wealth...        1  "
      ]
     },
     "execution_count": 6,
     "metadata": {},
     "output_type": "execute_result"
    }
   ],
   "source": [
    "extrem.head()"
   ]
  },
  {
   "cell_type": "code",
   "execution_count": 7,
   "metadata": {},
   "outputs": [
    {
     "data": {
      "text/plain": [
       "body                0\n",
       "subreddit           0\n",
       "word_count          0\n",
       "tokenized        9366\n",
       "clean_content    9366\n",
       "extreme             0\n",
       "dtype: int64"
      ]
     },
     "execution_count": 7,
     "metadata": {},
     "output_type": "execute_result"
    }
   ],
   "source": [
    "extrem.isna().sum()"
   ]
  },
  {
   "cell_type": "markdown",
   "metadata": {},
   "source": [
    "## Some NAN/null values were created in the process of saving the above dataframe as a csv in the previous notebook, in the case of empty clean_content column values (as a result of the NLP preprocessing function having nothing to process, creating an empty cell).\n",
    "\n",
    "## In running numerous 50-sample sets of these null clean_content rows I see that in every case they come from non-informative 'body' post content-- one-word answers, nonsensical posts, emojis, etc, so I'm going to delete any row with a null value. This process accidentally pinpointed almost 10,000 more non-informative, junk posts that can be removed from the dataset..."
   ]
  },
  {
   "cell_type": "code",
   "execution_count": 9,
   "metadata": {},
   "outputs": [],
   "source": [
    "nulls = extrem[extrem.isna().any(axis=1)]"
   ]
  },
  {
   "cell_type": "code",
   "execution_count": 10,
   "metadata": {},
   "outputs": [
    {
     "data": {
      "text/html": [
       "<div>\n",
       "<style scoped>\n",
       "    .dataframe tbody tr th:only-of-type {\n",
       "        vertical-align: middle;\n",
       "    }\n",
       "\n",
       "    .dataframe tbody tr th {\n",
       "        vertical-align: top;\n",
       "    }\n",
       "\n",
       "    .dataframe thead th {\n",
       "        text-align: right;\n",
       "    }\n",
       "</style>\n",
       "<table border=\"1\" class=\"dataframe\">\n",
       "  <thead>\n",
       "    <tr style=\"text-align: right;\">\n",
       "      <th></th>\n",
       "      <th>body</th>\n",
       "      <th>subreddit</th>\n",
       "      <th>word_count</th>\n",
       "      <th>tokenized</th>\n",
       "      <th>clean_content</th>\n",
       "      <th>extreme</th>\n",
       "    </tr>\n",
       "  </thead>\n",
       "  <tbody>\n",
       "    <tr>\n",
       "      <th>602424</th>\n",
       "      <td>It's out.</td>\n",
       "      <td>ChapoTrapHouse</td>\n",
       "      <td>2</td>\n",
       "      <td>NaN</td>\n",
       "      <td>NaN</td>\n",
       "      <td>1</td>\n",
       "    </tr>\n",
       "    <tr>\n",
       "      <th>563387</th>\n",
       "      <td>🤮</td>\n",
       "      <td>The_Donald</td>\n",
       "      <td>1</td>\n",
       "      <td>NaN</td>\n",
       "      <td>NaN</td>\n",
       "      <td>1</td>\n",
       "    </tr>\n",
       "    <tr>\n",
       "      <th>830440</th>\n",
       "      <td>☝️</td>\n",
       "      <td>The_Donald</td>\n",
       "      <td>1</td>\n",
       "      <td>NaN</td>\n",
       "      <td>NaN</td>\n",
       "      <td>1</td>\n",
       "    </tr>\n",
       "    <tr>\n",
       "      <th>968965</th>\n",
       "      <td>Who him is?</td>\n",
       "      <td>The_Donald</td>\n",
       "      <td>3</td>\n",
       "      <td>NaN</td>\n",
       "      <td>NaN</td>\n",
       "      <td>1</td>\n",
       "    </tr>\n",
       "    <tr>\n",
       "      <th>60579</th>\n",
       "      <td>;)</td>\n",
       "      <td>ChapoTrapHouse</td>\n",
       "      <td>1</td>\n",
       "      <td>NaN</td>\n",
       "      <td>NaN</td>\n",
       "      <td>1</td>\n",
       "    </tr>\n",
       "    <tr>\n",
       "      <th>600491</th>\n",
       "      <td>* he</td>\n",
       "      <td>The_Donald</td>\n",
       "      <td>2</td>\n",
       "      <td>NaN</td>\n",
       "      <td>NaN</td>\n",
       "      <td>1</td>\n",
       "    </tr>\n",
       "    <tr>\n",
       "      <th>593356</th>\n",
       "      <td>😭</td>\n",
       "      <td>The_Donald</td>\n",
       "      <td>1</td>\n",
       "      <td>NaN</td>\n",
       "      <td>NaN</td>\n",
       "      <td>1</td>\n",
       "    </tr>\n",
       "    <tr>\n",
       "      <th>86852</th>\n",
       "      <td>😂</td>\n",
       "      <td>The_Donald</td>\n",
       "      <td>1</td>\n",
       "      <td>NaN</td>\n",
       "      <td>NaN</td>\n",
       "      <td>1</td>\n",
       "    </tr>\n",
       "    <tr>\n",
       "      <th>521101</th>\n",
       "      <td>👆</td>\n",
       "      <td>The_Donald</td>\n",
       "      <td>1</td>\n",
       "      <td>NaN</td>\n",
       "      <td>NaN</td>\n",
       "      <td>1</td>\n",
       "    </tr>\n",
       "    <tr>\n",
       "      <th>919532</th>\n",
       "      <td>🤤🤤🤤</td>\n",
       "      <td>ChapoTrapHouse</td>\n",
       "      <td>1</td>\n",
       "      <td>NaN</td>\n",
       "      <td>NaN</td>\n",
       "      <td>1</td>\n",
       "    </tr>\n",
       "    <tr>\n",
       "      <th>951446</th>\n",
       "      <td>🤣</td>\n",
       "      <td>The_Donald</td>\n",
       "      <td>1</td>\n",
       "      <td>NaN</td>\n",
       "      <td>NaN</td>\n",
       "      <td>1</td>\n",
       "    </tr>\n",
       "    <tr>\n",
       "      <th>339593</th>\n",
       "      <td>🐕</td>\n",
       "      <td>The_Donald</td>\n",
       "      <td>1</td>\n",
       "      <td>NaN</td>\n",
       "      <td>NaN</td>\n",
       "      <td>1</td>\n",
       "    </tr>\n",
       "    <tr>\n",
       "      <th>130863</th>\n",
       "      <td>🙏🏻</td>\n",
       "      <td>The_Donald</td>\n",
       "      <td>1</td>\n",
       "      <td>NaN</td>\n",
       "      <td>NaN</td>\n",
       "      <td>1</td>\n",
       "    </tr>\n",
       "    <tr>\n",
       "      <th>704003</th>\n",
       "      <td>No</td>\n",
       "      <td>ChapoTrapHouse</td>\n",
       "      <td>1</td>\n",
       "      <td>NaN</td>\n",
       "      <td>NaN</td>\n",
       "      <td>1</td>\n",
       "    </tr>\n",
       "    <tr>\n",
       "      <th>758503</th>\n",
       "      <td>A</td>\n",
       "      <td>The_Donald</td>\n",
       "      <td>1</td>\n",
       "      <td>NaN</td>\n",
       "      <td>NaN</td>\n",
       "      <td>1</td>\n",
       "    </tr>\n",
       "    <tr>\n",
       "      <th>317391</th>\n",
       "      <td>Did it!</td>\n",
       "      <td>The_Donald</td>\n",
       "      <td>2</td>\n",
       "      <td>NaN</td>\n",
       "      <td>NaN</td>\n",
       "      <td>1</td>\n",
       "    </tr>\n",
       "    <tr>\n",
       "      <th>714956</th>\n",
       "      <td>👍</td>\n",
       "      <td>The_Donald</td>\n",
       "      <td>1</td>\n",
       "      <td>NaN</td>\n",
       "      <td>NaN</td>\n",
       "      <td>1</td>\n",
       "    </tr>\n",
       "    <tr>\n",
       "      <th>1034244</th>\n",
       "      <td>same</td>\n",
       "      <td>The_Donald</td>\n",
       "      <td>1</td>\n",
       "      <td>NaN</td>\n",
       "      <td>NaN</td>\n",
       "      <td>1</td>\n",
       "    </tr>\n",
       "    <tr>\n",
       "      <th>733632</th>\n",
       "      <td>She should</td>\n",
       "      <td>The_Donald</td>\n",
       "      <td>2</td>\n",
       "      <td>NaN</td>\n",
       "      <td>NaN</td>\n",
       "      <td>1</td>\n",
       "    </tr>\n",
       "    <tr>\n",
       "      <th>606381</th>\n",
       "      <td>His</td>\n",
       "      <td>The_Donald</td>\n",
       "      <td>1</td>\n",
       "      <td>NaN</td>\n",
       "      <td>NaN</td>\n",
       "      <td>1</td>\n",
       "    </tr>\n",
       "    <tr>\n",
       "      <th>661072</th>\n",
       "      <td>👌</td>\n",
       "      <td>The_Donald</td>\n",
       "      <td>1</td>\n",
       "      <td>NaN</td>\n",
       "      <td>NaN</td>\n",
       "      <td>1</td>\n",
       "    </tr>\n",
       "    <tr>\n",
       "      <th>145526</th>\n",
       "      <td>Ma’am.</td>\n",
       "      <td>The_Donald</td>\n",
       "      <td>1</td>\n",
       "      <td>NaN</td>\n",
       "      <td>NaN</td>\n",
       "      <td>1</td>\n",
       "    </tr>\n",
       "    <tr>\n",
       "      <th>529545</th>\n",
       "      <td>🔥🔥🔥</td>\n",
       "      <td>The_Donald</td>\n",
       "      <td>1</td>\n",
       "      <td>NaN</td>\n",
       "      <td>NaN</td>\n",
       "      <td>1</td>\n",
       "    </tr>\n",
       "    <tr>\n",
       "      <th>847489</th>\n",
       "      <td>#IS</td>\n",
       "      <td>The_Donald</td>\n",
       "      <td>1</td>\n",
       "      <td>NaN</td>\n",
       "      <td>NaN</td>\n",
       "      <td>1</td>\n",
       "    </tr>\n",
       "    <tr>\n",
       "      <th>537502</th>\n",
       "      <td>No you can’t</td>\n",
       "      <td>The_Donald</td>\n",
       "      <td>3</td>\n",
       "      <td>NaN</td>\n",
       "      <td>NaN</td>\n",
       "      <td>1</td>\n",
       "    </tr>\n",
       "    <tr>\n",
       "      <th>247068</th>\n",
       "      <td>Not from this no...</td>\n",
       "      <td>ChapoTrapHouse</td>\n",
       "      <td>4</td>\n",
       "      <td>NaN</td>\n",
       "      <td>NaN</td>\n",
       "      <td>1</td>\n",
       "    </tr>\n",
       "    <tr>\n",
       "      <th>786369</th>\n",
       "      <td>😂😂😂😂👌</td>\n",
       "      <td>The_Donald</td>\n",
       "      <td>1</td>\n",
       "      <td>NaN</td>\n",
       "      <td>NaN</td>\n",
       "      <td>1</td>\n",
       "    </tr>\n",
       "    <tr>\n",
       "      <th>275052</th>\n",
       "      <td>🥜</td>\n",
       "      <td>The_Donald</td>\n",
       "      <td>1</td>\n",
       "      <td>NaN</td>\n",
       "      <td>NaN</td>\n",
       "      <td>1</td>\n",
       "    </tr>\n",
       "    <tr>\n",
       "      <th>433324</th>\n",
       "      <td>🙄</td>\n",
       "      <td>The_Donald</td>\n",
       "      <td>1</td>\n",
       "      <td>NaN</td>\n",
       "      <td>NaN</td>\n",
       "      <td>1</td>\n",
       "    </tr>\n",
       "    <tr>\n",
       "      <th>359763</th>\n",
       "      <td>no, no, no, no.</td>\n",
       "      <td>The_Donald</td>\n",
       "      <td>4</td>\n",
       "      <td>NaN</td>\n",
       "      <td>NaN</td>\n",
       "      <td>1</td>\n",
       "    </tr>\n",
       "    <tr>\n",
       "      <th>444812</th>\n",
       "      <td>S</td>\n",
       "      <td>The_Donald</td>\n",
       "      <td>1</td>\n",
       "      <td>NaN</td>\n",
       "      <td>NaN</td>\n",
       "      <td>1</td>\n",
       "    </tr>\n",
       "    <tr>\n",
       "      <th>209457</th>\n",
       "      <td>This</td>\n",
       "      <td>The_Donald</td>\n",
       "      <td>1</td>\n",
       "      <td>NaN</td>\n",
       "      <td>NaN</td>\n",
       "      <td>1</td>\n",
       "    </tr>\n",
       "    <tr>\n",
       "      <th>74969</th>\n",
       "      <td>THIS!</td>\n",
       "      <td>The_Donald</td>\n",
       "      <td>1</td>\n",
       "      <td>NaN</td>\n",
       "      <td>NaN</td>\n",
       "      <td>1</td>\n",
       "    </tr>\n",
       "    <tr>\n",
       "      <th>279874</th>\n",
       "      <td>Where’s he at?</td>\n",
       "      <td>The_Donald</td>\n",
       "      <td>3</td>\n",
       "      <td>NaN</td>\n",
       "      <td>NaN</td>\n",
       "      <td>1</td>\n",
       "    </tr>\n",
       "    <tr>\n",
       "      <th>999144</th>\n",
       "      <td>This.</td>\n",
       "      <td>The_Donald</td>\n",
       "      <td>1</td>\n",
       "      <td>NaN</td>\n",
       "      <td>NaN</td>\n",
       "      <td>1</td>\n",
       "    </tr>\n",
       "    <tr>\n",
       "      <th>995224</th>\n",
       "      <td>😂😂😂😂😂😂😂😂</td>\n",
       "      <td>The_Donald</td>\n",
       "      <td>1</td>\n",
       "      <td>NaN</td>\n",
       "      <td>NaN</td>\n",
       "      <td>1</td>\n",
       "    </tr>\n",
       "    <tr>\n",
       "      <th>654313</th>\n",
       "      <td>It's not.</td>\n",
       "      <td>ChapoTrapHouse</td>\n",
       "      <td>2</td>\n",
       "      <td>NaN</td>\n",
       "      <td>NaN</td>\n",
       "      <td>1</td>\n",
       "    </tr>\n",
       "    <tr>\n",
       "      <th>302211</th>\n",
       "      <td>👏🏾👏🏾👏🏾</td>\n",
       "      <td>The_Donald</td>\n",
       "      <td>1</td>\n",
       "      <td>NaN</td>\n",
       "      <td>NaN</td>\n",
       "      <td>1</td>\n",
       "    </tr>\n",
       "    <tr>\n",
       "      <th>588304</th>\n",
       "      <td>🦀 🦀 🦀</td>\n",
       "      <td>ChapoTrapHouse</td>\n",
       "      <td>3</td>\n",
       "      <td>NaN</td>\n",
       "      <td>NaN</td>\n",
       "      <td>1</td>\n",
       "    </tr>\n",
       "    <tr>\n",
       "      <th>506325</th>\n",
       "      <td>🎉🎉🎉🎉</td>\n",
       "      <td>The_Donald</td>\n",
       "      <td>1</td>\n",
       "      <td>NaN</td>\n",
       "      <td>NaN</td>\n",
       "      <td>1</td>\n",
       "    </tr>\n",
       "    <tr>\n",
       "      <th>33499</th>\n",
       "      <td>No</td>\n",
       "      <td>The_Donald</td>\n",
       "      <td>1</td>\n",
       "      <td>NaN</td>\n",
       "      <td>NaN</td>\n",
       "      <td>1</td>\n",
       "    </tr>\n",
       "    <tr>\n",
       "      <th>411317</th>\n",
       "      <td>??</td>\n",
       "      <td>The_Donald</td>\n",
       "      <td>1</td>\n",
       "      <td>NaN</td>\n",
       "      <td>NaN</td>\n",
       "      <td>1</td>\n",
       "    </tr>\n",
       "    <tr>\n",
       "      <th>249417</th>\n",
       "      <td>😲</td>\n",
       "      <td>ChapoTrapHouse</td>\n",
       "      <td>1</td>\n",
       "      <td>NaN</td>\n",
       "      <td>NaN</td>\n",
       "      <td>1</td>\n",
       "    </tr>\n",
       "    <tr>\n",
       "      <th>43171</th>\n",
       "      <td>🤣🤣🤣🤣🤣</td>\n",
       "      <td>The_Donald</td>\n",
       "      <td>1</td>\n",
       "      <td>NaN</td>\n",
       "      <td>NaN</td>\n",
       "      <td>1</td>\n",
       "    </tr>\n",
       "    <tr>\n",
       "      <th>263578</th>\n",
       "      <td>How</td>\n",
       "      <td>The_Donald</td>\n",
       "      <td>1</td>\n",
       "      <td>NaN</td>\n",
       "      <td>NaN</td>\n",
       "      <td>1</td>\n",
       "    </tr>\n",
       "    <tr>\n",
       "      <th>557915</th>\n",
       "      <td>Same here</td>\n",
       "      <td>The_Donald</td>\n",
       "      <td>2</td>\n",
       "      <td>NaN</td>\n",
       "      <td>NaN</td>\n",
       "      <td>1</td>\n",
       "    </tr>\n",
       "    <tr>\n",
       "      <th>603964</th>\n",
       "      <td>:)</td>\n",
       "      <td>The_Donald</td>\n",
       "      <td>1</td>\n",
       "      <td>NaN</td>\n",
       "      <td>NaN</td>\n",
       "      <td>1</td>\n",
       "    </tr>\n",
       "    <tr>\n",
       "      <th>364738</th>\n",
       "      <td>😂😂😂😂😂😂😂😂😂😂😂😂😂😂😂😂</td>\n",
       "      <td>The_Donald</td>\n",
       "      <td>1</td>\n",
       "      <td>NaN</td>\n",
       "      <td>NaN</td>\n",
       "      <td>1</td>\n",
       "    </tr>\n",
       "    <tr>\n",
       "      <th>896391</th>\n",
       "      <td>Why don’t you?</td>\n",
       "      <td>ChapoTrapHouse</td>\n",
       "      <td>3</td>\n",
       "      <td>NaN</td>\n",
       "      <td>NaN</td>\n",
       "      <td>1</td>\n",
       "    </tr>\n",
       "    <tr>\n",
       "      <th>613067</th>\n",
       "      <td>😝</td>\n",
       "      <td>ChapoTrapHouse</td>\n",
       "      <td>1</td>\n",
       "      <td>NaN</td>\n",
       "      <td>NaN</td>\n",
       "      <td>1</td>\n",
       "    </tr>\n",
       "  </tbody>\n",
       "</table>\n",
       "</div>"
      ],
      "text/plain": [
       "                        body       subreddit  word_count tokenized  \\\n",
       "602424             It's out.  ChapoTrapHouse           2       NaN   \n",
       "563387                     🤮      The_Donald           1       NaN   \n",
       "830440                    ☝️      The_Donald           1       NaN   \n",
       "968965           Who him is?      The_Donald           3       NaN   \n",
       "60579                     ;)  ChapoTrapHouse           1       NaN   \n",
       "600491                  * he      The_Donald           2       NaN   \n",
       "593356                     😭      The_Donald           1       NaN   \n",
       "86852                      😂      The_Donald           1       NaN   \n",
       "521101                     👆      The_Donald           1       NaN   \n",
       "919532                   🤤🤤🤤  ChapoTrapHouse           1       NaN   \n",
       "951446                     🤣      The_Donald           1       NaN   \n",
       "339593                     🐕      The_Donald           1       NaN   \n",
       "130863                    🙏🏻      The_Donald           1       NaN   \n",
       "704003                    No  ChapoTrapHouse           1       NaN   \n",
       "758503                     A      The_Donald           1       NaN   \n",
       "317391               Did it!      The_Donald           2       NaN   \n",
       "714956                     👍      The_Donald           1       NaN   \n",
       "1034244                 same      The_Donald           1       NaN   \n",
       "733632            She should      The_Donald           2       NaN   \n",
       "606381                   His      The_Donald           1       NaN   \n",
       "661072                     👌      The_Donald           1       NaN   \n",
       "145526                Ma’am.      The_Donald           1       NaN   \n",
       "529545                   🔥🔥🔥      The_Donald           1       NaN   \n",
       "847489                   #IS      The_Donald           1       NaN   \n",
       "537502          No you can’t      The_Donald           3       NaN   \n",
       "247068   Not from this no...  ChapoTrapHouse           4       NaN   \n",
       "786369                 😂😂😂😂👌      The_Donald           1       NaN   \n",
       "275052                     🥜      The_Donald           1       NaN   \n",
       "433324                     🙄      The_Donald           1       NaN   \n",
       "359763       no, no, no, no.      The_Donald           4       NaN   \n",
       "444812                     S      The_Donald           1       NaN   \n",
       "209457                  This      The_Donald           1       NaN   \n",
       "74969                  THIS!      The_Donald           1       NaN   \n",
       "279874        Where’s he at?      The_Donald           3       NaN   \n",
       "999144                 This.      The_Donald           1       NaN   \n",
       "995224              😂😂😂😂😂😂😂😂      The_Donald           1       NaN   \n",
       "654313             It's not.  ChapoTrapHouse           2       NaN   \n",
       "302211                👏🏾👏🏾👏🏾      The_Donald           1       NaN   \n",
       "588304                 🦀 🦀 🦀  ChapoTrapHouse           3       NaN   \n",
       "506325                  🎉🎉🎉🎉      The_Donald           1       NaN   \n",
       "33499                     No      The_Donald           1       NaN   \n",
       "411317                    ??      The_Donald           1       NaN   \n",
       "249417                     😲  ChapoTrapHouse           1       NaN   \n",
       "43171                  🤣🤣🤣🤣🤣      The_Donald           1       NaN   \n",
       "263578                   How      The_Donald           1       NaN   \n",
       "557915             Same here      The_Donald           2       NaN   \n",
       "603964                    :)      The_Donald           1       NaN   \n",
       "364738      😂😂😂😂😂😂😂😂😂😂😂😂😂😂😂😂      The_Donald           1       NaN   \n",
       "896391        Why don’t you?  ChapoTrapHouse           3       NaN   \n",
       "613067                     😝  ChapoTrapHouse           1       NaN   \n",
       "\n",
       "        clean_content  extreme  \n",
       "602424            NaN        1  \n",
       "563387            NaN        1  \n",
       "830440            NaN        1  \n",
       "968965            NaN        1  \n",
       "60579             NaN        1  \n",
       "600491            NaN        1  \n",
       "593356            NaN        1  \n",
       "86852             NaN        1  \n",
       "521101            NaN        1  \n",
       "919532            NaN        1  \n",
       "951446            NaN        1  \n",
       "339593            NaN        1  \n",
       "130863            NaN        1  \n",
       "704003            NaN        1  \n",
       "758503            NaN        1  \n",
       "317391            NaN        1  \n",
       "714956            NaN        1  \n",
       "1034244           NaN        1  \n",
       "733632            NaN        1  \n",
       "606381            NaN        1  \n",
       "661072            NaN        1  \n",
       "145526            NaN        1  \n",
       "529545            NaN        1  \n",
       "847489            NaN        1  \n",
       "537502            NaN        1  \n",
       "247068            NaN        1  \n",
       "786369            NaN        1  \n",
       "275052            NaN        1  \n",
       "433324            NaN        1  \n",
       "359763            NaN        1  \n",
       "444812            NaN        1  \n",
       "209457            NaN        1  \n",
       "74969             NaN        1  \n",
       "279874            NaN        1  \n",
       "999144            NaN        1  \n",
       "995224            NaN        1  \n",
       "654313            NaN        1  \n",
       "302211            NaN        1  \n",
       "588304            NaN        1  \n",
       "506325            NaN        1  \n",
       "33499             NaN        1  \n",
       "411317            NaN        1  \n",
       "249417            NaN        1  \n",
       "43171             NaN        1  \n",
       "263578            NaN        1  \n",
       "557915            NaN        1  \n",
       "603964            NaN        1  \n",
       "364738            NaN        1  \n",
       "896391            NaN        1  \n",
       "613067            NaN        1  "
      ]
     },
     "execution_count": 10,
     "metadata": {},
     "output_type": "execute_result"
    }
   ],
   "source": [
    "nulls.sample(50)"
   ]
  },
  {
   "cell_type": "code",
   "execution_count": 8,
   "metadata": {},
   "outputs": [],
   "source": [
    "extrem.dropna(inplace=True)"
   ]
  },
  {
   "cell_type": "code",
   "execution_count": 9,
   "metadata": {},
   "outputs": [],
   "source": [
    "extrem = extrem.reset_index(drop=True)"
   ]
  },
  {
   "cell_type": "code",
   "execution_count": 10,
   "metadata": {},
   "outputs": [
    {
     "data": {
      "text/plain": [
       "body             0\n",
       "subreddit        0\n",
       "word_count       0\n",
       "tokenized        0\n",
       "clean_content    0\n",
       "extreme          0\n",
       "dtype: int64"
      ]
     },
     "execution_count": 10,
     "metadata": {},
     "output_type": "execute_result"
    }
   ],
   "source": [
    "extrem.isna().sum()"
   ]
  },
  {
   "cell_type": "code",
   "execution_count": 11,
   "metadata": {},
   "outputs": [
    {
     "data": {
      "text/plain": [
       "(1041125, 6)"
      ]
     },
     "execution_count": 11,
     "metadata": {},
     "output_type": "execute_result"
    }
   ],
   "source": [
    "extrem.shape"
   ]
  },
  {
   "cell_type": "markdown",
   "metadata": {},
   "source": [
    "## Get the mean word count grouped by subreddit:"
   ]
  },
  {
   "cell_type": "code",
   "execution_count": 15,
   "metadata": {},
   "outputs": [],
   "source": [
    "wc = clean[['subreddit', 'word_count']]"
   ]
  },
  {
   "cell_type": "code",
   "execution_count": 16,
   "metadata": {},
   "outputs": [
    {
     "data": {
      "text/html": [
       "<div>\n",
       "<style scoped>\n",
       "    .dataframe tbody tr th:only-of-type {\n",
       "        vertical-align: middle;\n",
       "    }\n",
       "\n",
       "    .dataframe tbody tr th {\n",
       "        vertical-align: top;\n",
       "    }\n",
       "\n",
       "    .dataframe thead th {\n",
       "        text-align: right;\n",
       "    }\n",
       "</style>\n",
       "<table border=\"1\" class=\"dataframe\">\n",
       "  <thead>\n",
       "    <tr style=\"text-align: right;\">\n",
       "      <th></th>\n",
       "      <th>word_count</th>\n",
       "    </tr>\n",
       "    <tr>\n",
       "      <th>subreddit</th>\n",
       "      <th></th>\n",
       "    </tr>\n",
       "  </thead>\n",
       "  <tbody>\n",
       "    <tr>\n",
       "      <th>ChapoTrapHouse</th>\n",
       "      <td>24.492131</td>\n",
       "    </tr>\n",
       "    <tr>\n",
       "      <th>TheRedPill</th>\n",
       "      <td>64.823726</td>\n",
       "    </tr>\n",
       "    <tr>\n",
       "      <th>The_Donald</th>\n",
       "      <td>21.827968</td>\n",
       "    </tr>\n",
       "    <tr>\n",
       "      <th>politics</th>\n",
       "      <td>30.942441</td>\n",
       "    </tr>\n",
       "  </tbody>\n",
       "</table>\n",
       "</div>"
      ],
      "text/plain": [
       "                word_count\n",
       "subreddit                 \n",
       "ChapoTrapHouse   24.492131\n",
       "TheRedPill       64.823726\n",
       "The_Donald       21.827968\n",
       "politics         30.942441"
      ]
     },
     "execution_count": 16,
     "metadata": {},
     "output_type": "execute_result"
    }
   ],
   "source": [
    "wc.groupby('subreddit').mean()"
   ]
  },
  {
   "cell_type": "markdown",
   "metadata": {},
   "source": [
    "## Get min/max information on the word count values:"
   ]
  },
  {
   "cell_type": "code",
   "execution_count": 17,
   "metadata": {},
   "outputs": [
    {
     "data": {
      "text/plain": [
       "count    3196580.00\n",
       "mean          28.35\n",
       "std           45.99\n",
       "min            1.00\n",
       "25%            8.00\n",
       "50%           16.00\n",
       "75%           32.00\n",
       "max         8004.00\n",
       "Name: word_count, dtype: float64"
      ]
     },
     "execution_count": 17,
     "metadata": {},
     "output_type": "execute_result"
    }
   ],
   "source": [
    "round(clean['word_count'].describe(), 2)"
   ]
  },
  {
   "cell_type": "markdown",
   "metadata": {},
   "source": [
    "## Since the word counts range all the way up to 8,004, it is not feasible to create a visualization of word count distribution of the entire dataset. Create a sub-dataframe of observations with a word count of up to 80 and run a distribution on that instead:"
   ]
  },
  {
   "cell_type": "code",
   "execution_count": 18,
   "metadata": {},
   "outputs": [],
   "source": [
    "wc_80 = wc.loc[wc['word_count'] <= 80]"
   ]
  },
  {
   "cell_type": "code",
   "execution_count": 19,
   "metadata": {},
   "outputs": [
    {
     "data": {
      "text/plain": [
       "count    2989374.00\n",
       "mean          20.05\n",
       "std           17.30\n",
       "min            1.00\n",
       "25%            7.00\n",
       "50%           15.00\n",
       "75%           28.00\n",
       "max           80.00\n",
       "Name: word_count, dtype: float64"
      ]
     },
     "execution_count": 19,
     "metadata": {},
     "output_type": "execute_result"
    }
   ],
   "source": [
    "round(wc_80['word_count'].describe(), 2)"
   ]
  },
  {
   "cell_type": "code",
   "execution_count": 20,
   "metadata": {},
   "outputs": [
    {
     "data": {
      "image/png": "[encoded data removed]",
      "text/plain": [
       "<Figure size 1296x720 with 1 Axes>"
      ]
     },
     "metadata": {
      "needs_background": "light"
     },
     "output_type": "display_data"
    }
   ],
   "source": [
    "plt.figure(figsize=(18, 10))\n",
    "sns.countplot(data=wc_80, x='word_count', palette='cubehelix')\n",
    "plt.title('Frequency distribution of post word counts for all four Subreddits', fontsize = 18)\n",
    "plt.ylabel('Frequency', fontsize = 15)\n",
    "plt.xlabel('Post Word Count', fontsize = 15)\n",
    "plt.xticks(fontsize = 12, rotation=70);\n",
    "\n",
    "# from:\n",
    "# Katie Sylvia BH- Linear Regression Review"
   ]
  },
  {
   "cell_type": "markdown",
   "metadata": {},
   "source": [
    "## Plot the word count frequency distribution of each of the four subreddits:"
   ]
  },
  {
   "cell_type": "code",
   "execution_count": 21,
   "metadata": {},
   "outputs": [],
   "source": [
    "# start with politics subreddit-\n",
    "\n",
    "politics = clean[clean['subreddit']=='politics']\n",
    "politics.reset_index(drop=True, inplace=True)"
   ]
  },
  {
   "cell_type": "code",
   "execution_count": 22,
   "metadata": {},
   "outputs": [],
   "source": [
    "wc_politics = politics[['word_count']]"
   ]
  },
  {
   "cell_type": "code",
   "execution_count": 23,
   "metadata": {},
   "outputs": [
    {
     "data": {
      "text/html": [
       "<div>\n",
       "<style scoped>\n",
       "    .dataframe tbody tr th:only-of-type {\n",
       "        vertical-align: middle;\n",
       "    }\n",
       "\n",
       "    .dataframe tbody tr th {\n",
       "        vertical-align: top;\n",
       "    }\n",
       "\n",
       "    .dataframe thead th {\n",
       "        text-align: right;\n",
       "    }\n",
       "</style>\n",
       "<table border=\"1\" class=\"dataframe\">\n",
       "  <thead>\n",
       "    <tr style=\"text-align: right;\">\n",
       "      <th></th>\n",
       "      <th>word_count</th>\n",
       "    </tr>\n",
       "  </thead>\n",
       "  <tbody>\n",
       "    <tr>\n",
       "      <th>count</th>\n",
       "      <td>2146083.00</td>\n",
       "    </tr>\n",
       "    <tr>\n",
       "      <th>mean</th>\n",
       "      <td>30.94</td>\n",
       "    </tr>\n",
       "    <tr>\n",
       "      <th>std</th>\n",
       "      <td>46.24</td>\n",
       "    </tr>\n",
       "    <tr>\n",
       "      <th>min</th>\n",
       "      <td>1.00</td>\n",
       "    </tr>\n",
       "    <tr>\n",
       "      <th>25%</th>\n",
       "      <td>9.00</td>\n",
       "    </tr>\n",
       "    <tr>\n",
       "      <th>50%</th>\n",
       "      <td>18.00</td>\n",
       "    </tr>\n",
       "    <tr>\n",
       "      <th>75%</th>\n",
       "      <td>36.00</td>\n",
       "    </tr>\n",
       "    <tr>\n",
       "      <th>max</th>\n",
       "      <td>1817.00</td>\n",
       "    </tr>\n",
       "  </tbody>\n",
       "</table>\n",
       "</div>"
      ],
      "text/plain": [
       "       word_count\n",
       "count  2146083.00\n",
       "mean        30.94\n",
       "std         46.24\n",
       "min          1.00\n",
       "25%          9.00\n",
       "50%         18.00\n",
       "75%         36.00\n",
       "max       1817.00"
      ]
     },
     "execution_count": 23,
     "metadata": {},
     "output_type": "execute_result"
    }
   ],
   "source": [
    "round(wc_politics.describe(), 2)\n",
    "\n",
    "# again, in the case of each of these subreddits it is not feasible to run a visualization across \n",
    "# the entire frequency distribution because they go up to the thousands-- instead I will create a\n",
    "# subset using the 75% word count to get most of the word count ranges of each subreddit in question"
   ]
  },
  {
   "cell_type": "code",
   "execution_count": 24,
   "metadata": {},
   "outputs": [],
   "source": [
    "wc_politics_70 = wc_politics.loc[wc_politics['word_count'] <= 70]"
   ]
  },
  {
   "cell_type": "code",
   "execution_count": 25,
   "metadata": {},
   "outputs": [
    {
     "data": {
      "text/html": [
       "<div>\n",
       "<style scoped>\n",
       "    .dataframe tbody tr th:only-of-type {\n",
       "        vertical-align: middle;\n",
       "    }\n",
       "\n",
       "    .dataframe tbody tr th {\n",
       "        vertical-align: top;\n",
       "    }\n",
       "\n",
       "    .dataframe thead th {\n",
       "        text-align: right;\n",
       "    }\n",
       "</style>\n",
       "<table border=\"1\" class=\"dataframe\">\n",
       "  <thead>\n",
       "    <tr style=\"text-align: right;\">\n",
       "      <th></th>\n",
       "      <th>word_count</th>\n",
       "    </tr>\n",
       "  </thead>\n",
       "  <tbody>\n",
       "    <tr>\n",
       "      <th>count</th>\n",
       "      <td>1939561.00</td>\n",
       "    </tr>\n",
       "    <tr>\n",
       "      <th>mean</th>\n",
       "      <td>20.35</td>\n",
       "    </tr>\n",
       "    <tr>\n",
       "      <th>std</th>\n",
       "      <td>16.05</td>\n",
       "    </tr>\n",
       "    <tr>\n",
       "      <th>min</th>\n",
       "      <td>1.00</td>\n",
       "    </tr>\n",
       "    <tr>\n",
       "      <th>25%</th>\n",
       "      <td>8.00</td>\n",
       "    </tr>\n",
       "    <tr>\n",
       "      <th>50%</th>\n",
       "      <td>16.00</td>\n",
       "    </tr>\n",
       "    <tr>\n",
       "      <th>75%</th>\n",
       "      <td>29.00</td>\n",
       "    </tr>\n",
       "    <tr>\n",
       "      <th>max</th>\n",
       "      <td>70.00</td>\n",
       "    </tr>\n",
       "  </tbody>\n",
       "</table>\n",
       "</div>"
      ],
      "text/plain": [
       "       word_count\n",
       "count  1939561.00\n",
       "mean        20.35\n",
       "std         16.05\n",
       "min          1.00\n",
       "25%          8.00\n",
       "50%         16.00\n",
       "75%         29.00\n",
       "max         70.00"
      ]
     },
     "execution_count": 25,
     "metadata": {},
     "output_type": "execute_result"
    }
   ],
   "source": [
    "round(wc_politics_70.describe(), 2)"
   ]
  },
  {
   "cell_type": "code",
   "execution_count": 26,
   "metadata": {},
   "outputs": [
    {
     "data": {
      "image/png": "[encoded data removed]",
      "text/plain": [
       "<Figure size 1296x720 with 1 Axes>"
      ]
     },
     "metadata": {
      "needs_background": "light"
     },
     "output_type": "display_data"
    }
   ],
   "source": [
    "plt.figure(figsize=(18, 10))\n",
    "sns.countplot(data=wc_politics_70, x='word_count', palette='tab20c')\n",
    "plt.title('Frequency distribution of post word counts for the Politics subreddit', fontsize = 18)\n",
    "plt.ylabel('Frequency', fontsize = 15)\n",
    "plt.xlabel('Post Word Count', fontsize = 15)\n",
    "plt.xticks(fontsize = 12, rotation=70);\n",
    "\n",
    "# from:\n",
    "# Katie Sylvia BH- Linear Regression Review"
   ]
  },
  {
   "cell_type": "code",
   "execution_count": 27,
   "metadata": {},
   "outputs": [],
   "source": [
    "# plot the frequency distribution for The_Donald subreddit-\n",
    "\n",
    "donald = extrem[extrem['subreddit']=='The_Donald']\n",
    "donald.reset_index(drop=True, inplace=True)"
   ]
  },
  {
   "cell_type": "code",
   "execution_count": 28,
   "metadata": {},
   "outputs": [],
   "source": [
    "wc_donald = donald[['word_count']]"
   ]
  },
  {
   "cell_type": "code",
   "execution_count": 29,
   "metadata": {},
   "outputs": [
    {
     "data": {
      "text/html": [
       "<div>\n",
       "<style scoped>\n",
       "    .dataframe tbody tr th:only-of-type {\n",
       "        vertical-align: middle;\n",
       "    }\n",
       "\n",
       "    .dataframe tbody tr th {\n",
       "        vertical-align: top;\n",
       "    }\n",
       "\n",
       "    .dataframe thead th {\n",
       "        text-align: right;\n",
       "    }\n",
       "</style>\n",
       "<table border=\"1\" class=\"dataframe\">\n",
       "  <thead>\n",
       "    <tr style=\"text-align: right;\">\n",
       "      <th></th>\n",
       "      <th>word_count</th>\n",
       "    </tr>\n",
       "  </thead>\n",
       "  <tbody>\n",
       "    <tr>\n",
       "      <th>count</th>\n",
       "      <td>713662.00</td>\n",
       "    </tr>\n",
       "    <tr>\n",
       "      <th>mean</th>\n",
       "      <td>22.02</td>\n",
       "    </tr>\n",
       "    <tr>\n",
       "      <th>std</th>\n",
       "      <td>37.00</td>\n",
       "    </tr>\n",
       "    <tr>\n",
       "      <th>min</th>\n",
       "      <td>1.00</td>\n",
       "    </tr>\n",
       "    <tr>\n",
       "      <th>25%</th>\n",
       "      <td>6.00</td>\n",
       "    </tr>\n",
       "    <tr>\n",
       "      <th>50%</th>\n",
       "      <td>12.00</td>\n",
       "    </tr>\n",
       "    <tr>\n",
       "      <th>75%</th>\n",
       "      <td>25.00</td>\n",
       "    </tr>\n",
       "    <tr>\n",
       "      <th>max</th>\n",
       "      <td>4186.00</td>\n",
       "    </tr>\n",
       "  </tbody>\n",
       "</table>\n",
       "</div>"
      ],
      "text/plain": [
       "       word_count\n",
       "count   713662.00\n",
       "mean        22.02\n",
       "std         37.00\n",
       "min          1.00\n",
       "25%          6.00\n",
       "50%         12.00\n",
       "75%         25.00\n",
       "max       4186.00"
      ]
     },
     "execution_count": 29,
     "metadata": {},
     "output_type": "execute_result"
    }
   ],
   "source": [
    "round(wc_donald.describe(), 2)"
   ]
  },
  {
   "cell_type": "code",
   "execution_count": 30,
   "metadata": {},
   "outputs": [],
   "source": [
    "wc_donald_60 = wc_donald.loc[wc_donald['word_count'] <= 60]"
   ]
  },
  {
   "cell_type": "code",
   "execution_count": 31,
   "metadata": {},
   "outputs": [
    {
     "data": {
      "text/html": [
       "<div>\n",
       "<style scoped>\n",
       "    .dataframe tbody tr th:only-of-type {\n",
       "        vertical-align: middle;\n",
       "    }\n",
       "\n",
       "    .dataframe tbody tr th {\n",
       "        vertical-align: top;\n",
       "    }\n",
       "\n",
       "    .dataframe thead th {\n",
       "        text-align: right;\n",
       "    }\n",
       "</style>\n",
       "<table border=\"1\" class=\"dataframe\">\n",
       "  <thead>\n",
       "    <tr style=\"text-align: right;\">\n",
       "      <th></th>\n",
       "      <th>word_count</th>\n",
       "    </tr>\n",
       "  </thead>\n",
       "  <tbody>\n",
       "    <tr>\n",
       "      <th>count</th>\n",
       "      <td>666437.00</td>\n",
       "    </tr>\n",
       "    <tr>\n",
       "      <th>mean</th>\n",
       "      <td>15.47</td>\n",
       "    </tr>\n",
       "    <tr>\n",
       "      <th>std</th>\n",
       "      <td>12.98</td>\n",
       "    </tr>\n",
       "    <tr>\n",
       "      <th>min</th>\n",
       "      <td>1.00</td>\n",
       "    </tr>\n",
       "    <tr>\n",
       "      <th>25%</th>\n",
       "      <td>6.00</td>\n",
       "    </tr>\n",
       "    <tr>\n",
       "      <th>50%</th>\n",
       "      <td>11.00</td>\n",
       "    </tr>\n",
       "    <tr>\n",
       "      <th>75%</th>\n",
       "      <td>21.00</td>\n",
       "    </tr>\n",
       "    <tr>\n",
       "      <th>max</th>\n",
       "      <td>60.00</td>\n",
       "    </tr>\n",
       "  </tbody>\n",
       "</table>\n",
       "</div>"
      ],
      "text/plain": [
       "       word_count\n",
       "count   666437.00\n",
       "mean        15.47\n",
       "std         12.98\n",
       "min          1.00\n",
       "25%          6.00\n",
       "50%         11.00\n",
       "75%         21.00\n",
       "max         60.00"
      ]
     },
     "execution_count": 31,
     "metadata": {},
     "output_type": "execute_result"
    }
   ],
   "source": [
    "round(wc_donald_60.describe(), 2)"
   ]
  },
  {
   "cell_type": "code",
   "execution_count": 32,
   "metadata": {},
   "outputs": [
    {
     "data": {
      "image/png": "[encoded data removed]",
      "text/plain": [
       "<Figure size 1296x720 with 1 Axes>"
      ]
     },
     "metadata": {
      "needs_background": "light"
     },
     "output_type": "display_data"
    }
   ],
   "source": [
    "plt.figure(figsize=(18, 10))\n",
    "sns.countplot(data=wc_donald_60, x='word_count', palette='Set1')\n",
    "plt.title('Frequency distribution of post word counts for the The_Donald subreddit', fontsize = 18)\n",
    "plt.ylabel('Frequency', fontsize = 15)\n",
    "plt.xlabel('Post Word Count', fontsize = 15)\n",
    "plt.xticks(fontsize = 12, rotation=70); \n",
    "\n",
    "# from:\n",
    "# Katie Sylvia BH- Linear Regression Review"
   ]
  },
  {
   "cell_type": "code",
   "execution_count": 33,
   "metadata": {},
   "outputs": [],
   "source": [
    "# TheRedPill-\n",
    "\n",
    "redpill = extrem[extrem['subreddit']=='TheRedPill']\n",
    "redpill.reset_index(drop=True, inplace=True)"
   ]
  },
  {
   "cell_type": "code",
   "execution_count": 34,
   "metadata": {},
   "outputs": [],
   "source": [
    "wc_redpill = redpill[['word_count']]"
   ]
  },
  {
   "cell_type": "code",
   "execution_count": 35,
   "metadata": {},
   "outputs": [
    {
     "data": {
      "text/html": [
       "<div>\n",
       "<style scoped>\n",
       "    .dataframe tbody tr th:only-of-type {\n",
       "        vertical-align: middle;\n",
       "    }\n",
       "\n",
       "    .dataframe tbody tr th {\n",
       "        vertical-align: top;\n",
       "    }\n",
       "\n",
       "    .dataframe thead th {\n",
       "        text-align: right;\n",
       "    }\n",
       "</style>\n",
       "<table border=\"1\" class=\"dataframe\">\n",
       "  <thead>\n",
       "    <tr style=\"text-align: right;\">\n",
       "      <th></th>\n",
       "      <th>word_count</th>\n",
       "    </tr>\n",
       "  </thead>\n",
       "  <tbody>\n",
       "    <tr>\n",
       "      <th>count</th>\n",
       "      <td>10145.00</td>\n",
       "    </tr>\n",
       "    <tr>\n",
       "      <th>mean</th>\n",
       "      <td>64.85</td>\n",
       "    </tr>\n",
       "    <tr>\n",
       "      <th>std</th>\n",
       "      <td>131.94</td>\n",
       "    </tr>\n",
       "    <tr>\n",
       "      <th>min</th>\n",
       "      <td>1.00</td>\n",
       "    </tr>\n",
       "    <tr>\n",
       "      <th>25%</th>\n",
       "      <td>14.00</td>\n",
       "    </tr>\n",
       "    <tr>\n",
       "      <th>50%</th>\n",
       "      <td>30.00</td>\n",
       "    </tr>\n",
       "    <tr>\n",
       "      <th>75%</th>\n",
       "      <td>65.00</td>\n",
       "    </tr>\n",
       "    <tr>\n",
       "      <th>max</th>\n",
       "      <td>3477.00</td>\n",
       "    </tr>\n",
       "  </tbody>\n",
       "</table>\n",
       "</div>"
      ],
      "text/plain": [
       "       word_count\n",
       "count    10145.00\n",
       "mean        64.85\n",
       "std        131.94\n",
       "min          1.00\n",
       "25%         14.00\n",
       "50%         30.00\n",
       "75%         65.00\n",
       "max       3477.00"
      ]
     },
     "execution_count": 35,
     "metadata": {},
     "output_type": "execute_result"
    }
   ],
   "source": [
    "round(wc_redpill.describe(), 2)"
   ]
  },
  {
   "cell_type": "code",
   "execution_count": 36,
   "metadata": {},
   "outputs": [],
   "source": [
    "wc_redpill_80 = wc_redpill.loc[wc_redpill['word_count'] <= 80]"
   ]
  },
  {
   "cell_type": "code",
   "execution_count": 37,
   "metadata": {},
   "outputs": [
    {
     "data": {
      "text/html": [
       "<div>\n",
       "<style scoped>\n",
       "    .dataframe tbody tr th:only-of-type {\n",
       "        vertical-align: middle;\n",
       "    }\n",
       "\n",
       "    .dataframe tbody tr th {\n",
       "        vertical-align: top;\n",
       "    }\n",
       "\n",
       "    .dataframe thead th {\n",
       "        text-align: right;\n",
       "    }\n",
       "</style>\n",
       "<table border=\"1\" class=\"dataframe\">\n",
       "  <thead>\n",
       "    <tr style=\"text-align: right;\">\n",
       "      <th></th>\n",
       "      <th>word_count</th>\n",
       "    </tr>\n",
       "  </thead>\n",
       "  <tbody>\n",
       "    <tr>\n",
       "      <th>count</th>\n",
       "      <td>8152.00</td>\n",
       "    </tr>\n",
       "    <tr>\n",
       "      <th>mean</th>\n",
       "      <td>28.11</td>\n",
       "    </tr>\n",
       "    <tr>\n",
       "      <th>std</th>\n",
       "      <td>19.71</td>\n",
       "    </tr>\n",
       "    <tr>\n",
       "      <th>min</th>\n",
       "      <td>1.00</td>\n",
       "    </tr>\n",
       "    <tr>\n",
       "      <th>25%</th>\n",
       "      <td>12.00</td>\n",
       "    </tr>\n",
       "    <tr>\n",
       "      <th>50%</th>\n",
       "      <td>22.00</td>\n",
       "    </tr>\n",
       "    <tr>\n",
       "      <th>75%</th>\n",
       "      <td>40.00</td>\n",
       "    </tr>\n",
       "    <tr>\n",
       "      <th>max</th>\n",
       "      <td>80.00</td>\n",
       "    </tr>\n",
       "  </tbody>\n",
       "</table>\n",
       "</div>"
      ],
      "text/plain": [
       "       word_count\n",
       "count     8152.00\n",
       "mean        28.11\n",
       "std         19.71\n",
       "min          1.00\n",
       "25%         12.00\n",
       "50%         22.00\n",
       "75%         40.00\n",
       "max         80.00"
      ]
     },
     "execution_count": 37,
     "metadata": {},
     "output_type": "execute_result"
    }
   ],
   "source": [
    "round(wc_redpill_80.describe(), 2)"
   ]
  },
  {
   "cell_type": "code",
   "execution_count": 38,
   "metadata": {},
   "outputs": [
    {
     "data": {
      "image/png": "[encoded data removed]",
      "text/plain": [
       "<Figure size 1440x720 with 1 Axes>"
      ]
     },
     "metadata": {
      "needs_background": "light"
     },
     "output_type": "display_data"
    }
   ],
   "source": [
    "plt.figure(figsize=(20, 10))\n",
    "sns.countplot(data=wc_redpill_80, x='word_count', palette='Dark2')\n",
    "plt.title('Frequency distribution of post word counts for the TheRedPill subreddit', fontsize = 18)\n",
    "plt.ylabel('Frequency', fontsize = 15)\n",
    "plt.xlabel('Post Word Count', fontsize = 15)\n",
    "plt.xticks(fontsize = 12, rotation=70); \n",
    "\n",
    "# from:\n",
    "# Katie Sylvia BH- Linear Regression Review"
   ]
  },
  {
   "cell_type": "code",
   "execution_count": 39,
   "metadata": {},
   "outputs": [],
   "source": [
    "# ChapoTrapHouse-\n",
    "\n",
    "CTH = extrem[extrem['subreddit']=='ChapoTrapHouse']\n",
    "CTH.reset_index(drop=True, inplace=True)"
   ]
  },
  {
   "cell_type": "code",
   "execution_count": 40,
   "metadata": {},
   "outputs": [],
   "source": [
    "wc_CTH = CTH[['word_count']]"
   ]
  },
  {
   "cell_type": "code",
   "execution_count": 41,
   "metadata": {},
   "outputs": [
    {
     "data": {
      "text/html": [
       "<div>\n",
       "<style scoped>\n",
       "    .dataframe tbody tr th:only-of-type {\n",
       "        vertical-align: middle;\n",
       "    }\n",
       "\n",
       "    .dataframe tbody tr th {\n",
       "        vertical-align: top;\n",
       "    }\n",
       "\n",
       "    .dataframe thead th {\n",
       "        text-align: right;\n",
       "    }\n",
       "</style>\n",
       "<table border=\"1\" class=\"dataframe\">\n",
       "  <thead>\n",
       "    <tr style=\"text-align: right;\">\n",
       "      <th></th>\n",
       "      <th>word_count</th>\n",
       "    </tr>\n",
       "  </thead>\n",
       "  <tbody>\n",
       "    <tr>\n",
       "      <th>count</th>\n",
       "      <td>317318.00</td>\n",
       "    </tr>\n",
       "    <tr>\n",
       "      <th>mean</th>\n",
       "      <td>24.61</td>\n",
       "    </tr>\n",
       "    <tr>\n",
       "      <th>std</th>\n",
       "      <td>51.07</td>\n",
       "    </tr>\n",
       "    <tr>\n",
       "      <th>min</th>\n",
       "      <td>1.00</td>\n",
       "    </tr>\n",
       "    <tr>\n",
       "      <th>25%</th>\n",
       "      <td>6.00</td>\n",
       "    </tr>\n",
       "    <tr>\n",
       "      <th>50%</th>\n",
       "      <td>13.00</td>\n",
       "    </tr>\n",
       "    <tr>\n",
       "      <th>75%</th>\n",
       "      <td>26.00</td>\n",
       "    </tr>\n",
       "    <tr>\n",
       "      <th>max</th>\n",
       "      <td>7070.00</td>\n",
       "    </tr>\n",
       "  </tbody>\n",
       "</table>\n",
       "</div>"
      ],
      "text/plain": [
       "       word_count\n",
       "count   317318.00\n",
       "mean        24.61\n",
       "std         51.07\n",
       "min          1.00\n",
       "25%          6.00\n",
       "50%         13.00\n",
       "75%         26.00\n",
       "max       7070.00"
      ]
     },
     "execution_count": 41,
     "metadata": {},
     "output_type": "execute_result"
    }
   ],
   "source": [
    "round(wc_CTH.describe(), 2)"
   ]
  },
  {
   "cell_type": "code",
   "execution_count": 42,
   "metadata": {},
   "outputs": [],
   "source": [
    "wc_CTH_50 = wc_CTH.loc[wc_CTH['word_count'] <= 50]"
   ]
  },
  {
   "cell_type": "code",
   "execution_count": 43,
   "metadata": {},
   "outputs": [
    {
     "data": {
      "text/html": [
       "<div>\n",
       "<style scoped>\n",
       "    .dataframe tbody tr th:only-of-type {\n",
       "        vertical-align: middle;\n",
       "    }\n",
       "\n",
       "    .dataframe tbody tr th {\n",
       "        vertical-align: top;\n",
       "    }\n",
       "\n",
       "    .dataframe thead th {\n",
       "        text-align: right;\n",
       "    }\n",
       "</style>\n",
       "<table border=\"1\" class=\"dataframe\">\n",
       "  <thead>\n",
       "    <tr style=\"text-align: right;\">\n",
       "      <th></th>\n",
       "      <th>word_count</th>\n",
       "    </tr>\n",
       "  </thead>\n",
       "  <tbody>\n",
       "    <tr>\n",
       "      <th>count</th>\n",
       "      <td>284451.00</td>\n",
       "    </tr>\n",
       "    <tr>\n",
       "      <th>mean</th>\n",
       "      <td>14.52</td>\n",
       "    </tr>\n",
       "    <tr>\n",
       "      <th>std</th>\n",
       "      <td>11.41</td>\n",
       "    </tr>\n",
       "    <tr>\n",
       "      <th>min</th>\n",
       "      <td>1.00</td>\n",
       "    </tr>\n",
       "    <tr>\n",
       "      <th>25%</th>\n",
       "      <td>6.00</td>\n",
       "    </tr>\n",
       "    <tr>\n",
       "      <th>50%</th>\n",
       "      <td>11.00</td>\n",
       "    </tr>\n",
       "    <tr>\n",
       "      <th>75%</th>\n",
       "      <td>20.00</td>\n",
       "    </tr>\n",
       "    <tr>\n",
       "      <th>max</th>\n",
       "      <td>50.00</td>\n",
       "    </tr>\n",
       "  </tbody>\n",
       "</table>\n",
       "</div>"
      ],
      "text/plain": [
       "       word_count\n",
       "count   284451.00\n",
       "mean        14.52\n",
       "std         11.41\n",
       "min          1.00\n",
       "25%          6.00\n",
       "50%         11.00\n",
       "75%         20.00\n",
       "max         50.00"
      ]
     },
     "execution_count": 43,
     "metadata": {},
     "output_type": "execute_result"
    }
   ],
   "source": [
    "round(wc_CTH_50.describe(), 2)"
   ]
  },
  {
   "cell_type": "code",
   "execution_count": 44,
   "metadata": {},
   "outputs": [
    {
     "data": {
      "image/png": "[encoded data removed]",
      "text/plain": [
       "<Figure size 1296x720 with 1 Axes>"
      ]
     },
     "metadata": {
      "needs_background": "light"
     },
     "output_type": "display_data"
    }
   ],
   "source": [
    "plt.figure(figsize=(18, 10))\n",
    "sns.countplot(data=wc_CTH_50, x='word_count', palette='deep')\n",
    "plt.title('Frequency distribution of post word counts for the ChapoTrapHouse subreddit', fontsize = 18)\n",
    "plt.ylabel('Frequency', fontsize = 15)\n",
    "plt.xlabel('Post Word Count', fontsize = 15)\n",
    "plt.xticks(fontsize = 12, rotation=70); \n",
    "\n",
    "# from:\n",
    "# Katie Sylvia BH- Linear Regression Review"
   ]
  },
  {
   "cell_type": "markdown",
   "metadata": {},
   "source": [
    "## Get the distribution frequency of the word counts for each subreddit:"
   ]
  },
  {
   "cell_type": "code",
   "execution_count": 45,
   "metadata": {},
   "outputs": [
    {
     "data": {
      "image/png": "[encoded data removed]",
      "text/plain": [
       "<Figure size 1296x360 with 1 Axes>"
      ]
     },
     "metadata": {
      "needs_background": "light"
     },
     "output_type": "display_data"
    }
   ],
   "source": [
    "plt.figure(figsize=(18, 5))\n",
    "sns.scatterplot(data=wc, x='word_count', y='subreddit', color='navy')\n",
    "plt.title('Distribution frequency of post word counts by Subreddit', fontsize = 18)\n",
    "plt.xlabel('Post Word Count', fontsize = 15)\n",
    "plt.ylabel('Subreddit', fontsize = 15)\n",
    "plt.xticks(fontsize = 12)\n",
    "plt.yticks(fontsize = 12, rotation=30);"
   ]
  },
  {
   "cell_type": "markdown",
   "metadata": {},
   "source": [
    "## The bulk of non-outlying word count frequencies are very similar across the four subreddits, just under 2_000 words."
   ]
  },
  {
   "cell_type": "code",
   "execution_count": 46,
   "metadata": {},
   "outputs": [
    {
     "data": {
      "image/png": "[encoded data removed]",
      "text/plain": [
       "<Figure size 1080x576 with 1 Axes>"
      ]
     },
     "metadata": {
      "needs_background": "light"
     },
     "output_type": "display_data"
    }
   ],
   "source": [
    "plt.figure(figsize=(15, 8))\n",
    "wc.groupby('subreddit')['word_count'].mean().plot(kind = 'barh', color='darkslateblue')\n",
    "plt.title('Average post word counts by Subreddit', fontsize = 18)\n",
    "plt.xlabel('Average Post Word Count', fontsize = 15)\n",
    "plt.ylabel('Subreddit', fontsize = 15)\n",
    "plt.xticks(fontsize = 12)\n",
    "plt.yticks(fontsize = 12);"
   ]
  },
  {
   "cell_type": "markdown",
   "metadata": {},
   "source": [
    "## No real patterns of average word counts between extremist and non-extremist posts."
   ]
  },
  {
   "cell_type": "markdown",
   "metadata": {},
   "source": [
    "## Get some visualizations of the most frequently occurring words in each extremist subreddit:"
   ]
  },
  {
   "cell_type": "markdown",
   "metadata": {},
   "source": [
    "## Initialize a count vectorizer transformer, set with max features at 1_000 (the 1_000 most frequent terms in the corpus) and ngram range accepting unigrams only:"
   ]
  },
  {
   "cell_type": "code",
   "execution_count": 48,
   "metadata": {},
   "outputs": [],
   "source": [
    "cvec = CountVectorizer(max_features=1_000, ngram_range=(1,1))"
   ]
  },
  {
   "cell_type": "markdown",
   "metadata": {},
   "source": [
    "## Run the processed post content of the extremist subreddits through the cvec:"
   ]
  },
  {
   "cell_type": "code",
   "execution_count": 49,
   "metadata": {},
   "outputs": [],
   "source": [
    "content = extrem['clean_content']"
   ]
  },
  {
   "cell_type": "code",
   "execution_count": 50,
   "metadata": {},
   "outputs": [],
   "source": [
    "extrem_full_cvc = cvec.fit_transform(content)"
   ]
  },
  {
   "cell_type": "code",
   "execution_count": 51,
   "metadata": {},
   "outputs": [
    {
     "data": {
      "text/plain": [
       "(1041125, 1000)"
      ]
     },
     "execution_count": 51,
     "metadata": {},
     "output_type": "execute_result"
    }
   ],
   "source": [
    "extrem_full_cvc.shape"
   ]
  },
  {
   "cell_type": "code",
   "execution_count": 52,
   "metadata": {},
   "outputs": [],
   "source": [
    "# turn back into a df-\n",
    "\n",
    "extrem_full_cvc_df = pd.DataFrame(extrem_full_cvc.toarray(), columns = cvec.get_feature_names_out())"
   ]
  },
  {
   "cell_type": "markdown",
   "metadata": {},
   "source": [
    "## Get a list of the fifty most frequent words in the combined extremist dataset (from The_Donald, TheRedPill and ChapoTrapHouse):"
   ]
  },
  {
   "cell_type": "code",
   "execution_count": 53,
   "metadata": {},
   "outputs": [
    {
     "data": {
      "text/plain": [
       "like      123514\n",
       "peopl     101931\n",
       "get        91277\n",
       "one        72147\n",
       "fuck       71067\n",
       "would      70426\n",
       "trump      68192\n",
       "go         66489\n",
       "think      64380\n",
       "make       56389\n",
       "say        54613\n",
       "know       54563\n",
       "http       51020\n",
       "time       50413\n",
       "want       49613\n",
       "even       48967\n",
       "right      46759\n",
       "good       45914\n",
       "thing      43149\n",
       "us         42323\n",
       "need       40870\n",
       "see        40805\n",
       "look       40005\n",
       "shit       39932\n",
       "year       37443\n",
       "use        36730\n",
       "work       35510\n",
       "that       35127\n",
       "way        34486\n",
       "realli     34343\n",
       "take       34223\n",
       "also       34105\n",
       "actual     33339\n",
       "com        33015\n",
       "vote       30369\n",
       "never      30322\n",
       "tri        30233\n",
       "still      29681\n",
       "much       29499\n",
       "state      28696\n",
       "well       28511\n",
       "call       27984\n",
       "mean       27791\n",
       "could      27562\n",
       "got        27401\n",
       "back       26578\n",
       "they       26440\n",
       "guy        26244\n",
       "come       25631\n",
       "post       25081\n",
       "dtype: int64"
      ]
     },
     "execution_count": 53,
     "metadata": {},
     "output_type": "execute_result"
    }
   ],
   "source": [
    "extrem_full_cvc_df.sum().nlargest(50)"
   ]
  },
  {
   "cell_type": "code",
   "execution_count": 54,
   "metadata": {},
   "outputs": [],
   "source": [
    "# create a custom stopword list to filter out uninformative word features-\n",
    "\n",
    "stopwords = ['get', 'would', 'go', 'make', 'http', 'even', 'use', 'that', 'also', 'com', 'tri', 'still', 'much', 'could', 'got', 'they', 'post']\n",
    "\n",
    "# did this a few times to ID common low- or no-information words in the corpus, adding to the custom\n",
    "# stopword list each time"
   ]
  },
  {
   "cell_type": "code",
   "execution_count": 55,
   "metadata": {},
   "outputs": [],
   "source": [
    "# revise the cvec with this new stopword list-\n",
    "\n",
    "cvec_stopped = CountVectorizer(max_features=1_000, ngram_range=(1,1), stop_words=stopwords)"
   ]
  },
  {
   "cell_type": "code",
   "execution_count": 56,
   "metadata": {},
   "outputs": [],
   "source": [
    "# re-run with the new cvec and re-transform into a df-\n",
    "\n",
    "extrem_full_cvc = cvec_stopped.fit_transform(content)"
   ]
  },
  {
   "cell_type": "code",
   "execution_count": 57,
   "metadata": {},
   "outputs": [],
   "source": [
    "extrem_full_cvc_df = pd.DataFrame(extrem_full_cvc.toarray(), columns = cvec_stopped.get_feature_names_out())"
   ]
  },
  {
   "cell_type": "markdown",
   "metadata": {},
   "source": [
    "## Top twenty most frequent words in the extremist dataset after uninformative words have been removed:"
   ]
  },
  {
   "cell_type": "code",
   "execution_count": 58,
   "metadata": {},
   "outputs": [
    {
     "data": {
      "text/plain": [
       "like     123514\n",
       "peopl    101931\n",
       "one       72147\n",
       "fuck      71067\n",
       "trump     68192\n",
       "think     64380\n",
       "say       54613\n",
       "know      54563\n",
       "time      50413\n",
       "want      49613\n",
       "right     46759\n",
       "good      45914\n",
       "thing     43149\n",
       "us        42323\n",
       "need      40870\n",
       "see       40805\n",
       "look      40005\n",
       "shit      39932\n",
       "year      37443\n",
       "work      35510\n",
       "dtype: int64"
      ]
     },
     "execution_count": 58,
     "metadata": {},
     "output_type": "execute_result"
    }
   ],
   "source": [
    "extrem_full_cvc_df.sum().nlargest(20)\n",
    "\n",
    "# ok, still not that informative..."
   ]
  },
  {
   "cell_type": "markdown",
   "metadata": {},
   "source": [
    "## Plot it:"
   ]
  },
  {
   "cell_type": "code",
   "execution_count": 72,
   "metadata": {},
   "outputs": [
    {
     "data": {
      "image/png": "[encoded data removed]",
      "text/plain": [
       "<Figure size 1080x576 with 1 Axes>"
      ]
     },
     "metadata": {
      "needs_background": "light"
     },
     "output_type": "display_data"
    }
   ],
   "source": [
    "plt.figure(figsize=(15, 8))\n",
    "extrem_full_cvc_df.sum().sort_values(ascending=False).head(20).plot(kind='barh', color='firebrick')\n",
    "plt.title('Top 20 most frequent words across all three extremist subreddits', fontsize = 18)\n",
    "plt.xlabel('Frequency Counts', fontsize = 15)\n",
    "plt.ylabel('Words (unigrams)', fontsize = 15)\n",
    "plt.yticks(fontsize = 12);"
   ]
  },
  {
   "cell_type": "markdown",
   "metadata": {},
   "source": [
    "## Get the most frequent words by each subreddit:"
   ]
  },
  {
   "cell_type": "code",
   "execution_count": 61,
   "metadata": {},
   "outputs": [
    {
     "data": {
      "text/plain": [
       "The_Donald        713662\n",
       "ChapoTrapHouse    317318\n",
       "TheRedPill         10145\n",
       "Name: subreddit, dtype: int64"
      ]
     },
     "execution_count": 61,
     "metadata": {},
     "output_type": "execute_result"
    }
   ],
   "source": [
    "extrem['subreddit'].value_counts()"
   ]
  },
  {
   "cell_type": "code",
   "execution_count": 62,
   "metadata": {},
   "outputs": [
    {
     "data": {
      "text/plain": [
       "The_Donald        0.685472\n",
       "ChapoTrapHouse    0.304784\n",
       "TheRedPill        0.009744\n",
       "Name: subreddit, dtype: float64"
      ]
     },
     "execution_count": 62,
     "metadata": {},
     "output_type": "execute_result"
    }
   ],
   "source": [
    "extrem['subreddit'].value_counts(normalize=True)"
   ]
  },
  {
   "cell_type": "code",
   "execution_count": 63,
   "metadata": {},
   "outputs": [],
   "source": [
    "# break the cleaned posts from each subreddit into their own df-\n",
    "\n",
    "donald_content = donald['clean_content']"
   ]
  },
  {
   "cell_type": "code",
   "execution_count": 65,
   "metadata": {},
   "outputs": [],
   "source": [
    "redpill_content = redpill['clean_content']"
   ]
  },
  {
   "cell_type": "code",
   "execution_count": 67,
   "metadata": {},
   "outputs": [],
   "source": [
    "CTH_content = CTH['clean_content']"
   ]
  },
  {
   "cell_type": "code",
   "execution_count": 68,
   "metadata": {},
   "outputs": [],
   "source": [
    "donald_content_cvc = cvec_stopped.fit_transform(donald_content)"
   ]
  },
  {
   "cell_type": "code",
   "execution_count": 69,
   "metadata": {},
   "outputs": [],
   "source": [
    "donald_content_cvc_df = pd.DataFrame(donald_content_cvc.toarray(), columns = cvec_stopped.get_feature_names_out())"
   ]
  },
  {
   "cell_type": "markdown",
   "metadata": {},
   "source": [
    "## Top twenty most frequent words in the The_Donald subreddit:"
   ]
  },
  {
   "cell_type": "code",
   "execution_count": 70,
   "metadata": {},
   "outputs": [
    {
     "data": {
      "text/plain": [
       "like     75696\n",
       "peopl    61380\n",
       "trump    60909\n",
       "one      46841\n",
       "think    39696\n",
       "fuck     37385\n",
       "know     36906\n",
       "say      35159\n",
       "want     33582\n",
       "time     33340\n",
       "right    29744\n",
       "need     28948\n",
       "see      28308\n",
       "look     28234\n",
       "us       27850\n",
       "good     26643\n",
       "year     26415\n",
       "thing    26342\n",
       "vote     24014\n",
       "shit     22684\n",
       "dtype: int64"
      ]
     },
     "execution_count": 70,
     "metadata": {},
     "output_type": "execute_result"
    }
   ],
   "source": [
    "donald_content_cvc_df.sum().nlargest(20)"
   ]
  },
  {
   "cell_type": "code",
   "execution_count": 71,
   "metadata": {},
   "outputs": [
    {
     "data": {
      "image/png": "[encoded data removed]",
      "text/plain": [
       "<Figure size 1080x576 with 1 Axes>"
      ]
     },
     "metadata": {
      "needs_background": "light"
     },
     "output_type": "display_data"
    }
   ],
   "source": [
    "plt.figure(figsize=(15, 8))\n",
    "donald_content_cvc_df.sum().sort_values(ascending=False).head(20).plot(kind='barh', color='indigo')\n",
    "plt.title('Top 20 most frequently posted words in the The_Donald subreddit', fontsize = 18)\n",
    "plt.xlabel('Frequency Counts', fontsize = 15)\n",
    "plt.ylabel('Words (unigrams)', fontsize = 15)\n",
    "plt.yticks(fontsize = 12);"
   ]
  },
  {
   "cell_type": "markdown",
   "metadata": {},
   "source": [
    "## So the most frequent words in the The_Donald subreddit overlap with the overall most frequent words across the three extremist subreddits, which makes sense since The_Donald is the largest proportion of the extremist subreddits. "
   ]
  },
  {
   "cell_type": "code",
   "execution_count": 73,
   "metadata": {},
   "outputs": [],
   "source": [
    "redpill_content_cvc = cvec_stopped.fit_transform(redpill_content)"
   ]
  },
  {
   "cell_type": "code",
   "execution_count": 74,
   "metadata": {},
   "outputs": [],
   "source": [
    "redpill_content_cvc_df = pd.DataFrame(redpill_content_cvc.toarray(), columns = cvec_stopped.get_feature_names_out())"
   ]
  },
  {
   "cell_type": "markdown",
   "metadata": {},
   "source": [
    "## Top twenty most frequent words in the TheRedPill subreddit:"
   ]
  },
  {
   "cell_type": "code",
   "execution_count": 75,
   "metadata": {},
   "outputs": [
    {
     "data": {
      "text/plain": [
       "like     3418\n",
       "women    3073\n",
       "fuck     2059\n",
       "want     2000\n",
       "one      1985\n",
       "time     1945\n",
       "girl     1944\n",
       "peopl    1728\n",
       "men      1685\n",
       "think    1656\n",
       "guy      1653\n",
       "know     1529\n",
       "thing    1482\n",
       "good     1451\n",
       "work     1369\n",
       "life     1368\n",
       "say      1354\n",
       "way      1285\n",
       "look     1197\n",
       "need     1185\n",
       "dtype: int64"
      ]
     },
     "execution_count": 75,
     "metadata": {},
     "output_type": "execute_result"
    }
   ],
   "source": [
    "redpill_content_cvc_df.sum().nlargest(20)"
   ]
  },
  {
   "cell_type": "code",
   "execution_count": 76,
   "metadata": {},
   "outputs": [
    {
     "data": {
      "image/png": "[encoded data removed]",
      "text/plain": [
       "<Figure size 1080x576 with 1 Axes>"
      ]
     },
     "metadata": {
      "needs_background": "light"
     },
     "output_type": "display_data"
    }
   ],
   "source": [
    "plt.figure(figsize=(15, 8))\n",
    "redpill_content_cvc_df.sum().sort_values(ascending=False).head(20).plot(kind='barh', color='darkcyan')\n",
    "plt.title('Top 20 most frequently posted words in the TheRedPill subreddit', fontsize = 18)\n",
    "plt.xlabel('Frequency Counts', fontsize = 15)\n",
    "plt.ylabel('Words (unigrams)', fontsize = 15)\n",
    "plt.yticks(fontsize = 12);"
   ]
  },
  {
   "cell_type": "code",
   "execution_count": 77,
   "metadata": {},
   "outputs": [],
   "source": [
    "CTH_content_cvc = cvec_stopped.fit_transform(CTH_content)"
   ]
  },
  {
   "cell_type": "code",
   "execution_count": 78,
   "metadata": {},
   "outputs": [],
   "source": [
    "CTH_content_cvc_df = pd.DataFrame(CTH_content_cvc.toarray(), columns = cvec_stopped.get_feature_names_out())"
   ]
  },
  {
   "cell_type": "markdown",
   "metadata": {},
   "source": [
    "## Top twenty most frequent words in the ChapoTrapHouse subreddit:"
   ]
  },
  {
   "cell_type": "code",
   "execution_count": 79,
   "metadata": {},
   "outputs": [
    {
     "data": {
      "text/plain": [
       "like      44400\n",
       "peopl     38823\n",
       "fuck      31623\n",
       "one       23321\n",
       "think     23028\n",
       "say       18100\n",
       "good      17820\n",
       "right     16233\n",
       "shit      16146\n",
       "know      16128\n",
       "thing     15325\n",
       "time      15128\n",
       "actual    14157\n",
       "want      14031\n",
       "us        13921\n",
       "work      13778\n",
       "realli    13604\n",
       "mean      11819\n",
       "way       11748\n",
       "see       11415\n",
       "dtype: int64"
      ]
     },
     "execution_count": 79,
     "metadata": {},
     "output_type": "execute_result"
    }
   ],
   "source": [
    "CTH_content_cvc_df.sum().nlargest(20)"
   ]
  },
  {
   "cell_type": "code",
   "execution_count": 80,
   "metadata": {},
   "outputs": [
    {
     "data": {
      "image/png": "[encoded data removed]",
      "text/plain": [
       "<Figure size 1080x576 with 1 Axes>"
      ]
     },
     "metadata": {
      "needs_background": "light"
     },
     "output_type": "display_data"
    }
   ],
   "source": [
    "plt.figure(figsize=(15, 8))\n",
    "CTH_content_cvc_df.sum().sort_values(ascending=False).head(20).plot(kind='barh', color='lightsteelblue')\n",
    "plt.title('Top 20 most frequently posted words in the ChapoTrapHouse subreddit', fontsize = 18)\n",
    "plt.xlabel('Frequency Counts', fontsize = 15)\n",
    "plt.ylabel('Words (unigrams)', fontsize = 15)\n",
    "plt.yticks(fontsize = 12);"
   ]
  },
  {
   "cell_type": "markdown",
   "metadata": {},
   "source": [
    "## Use Spacy to identify and pull out the adjectives in each post of the extremist dataset, in order to get counts for each subreddit, as well as to create a column of adjectives for each post to be used in subsequent classification models:"
   ]
  },
  {
   "cell_type": "code",
   "execution_count": 2,
   "metadata": {},
   "outputs": [],
   "source": [
    "import spacy\n",
    "from spacy.matcher import Matcher"
   ]
  },
  {
   "cell_type": "code",
   "execution_count": 3,
   "metadata": {},
   "outputs": [],
   "source": [
    "nlp = spacy.load(\"en_core_web_lg\")"
   ]
  },
  {
   "cell_type": "markdown",
   "metadata": {},
   "source": [
    "## Import the dataset to be used for classification modeling, comprised of 20_000 observations from extremist subreddits and 20_000 observation from the politics subreddit:"
   ]
  },
  {
   "cell_type": "code",
   "execution_count": 5,
   "metadata": {},
   "outputs": [],
   "source": [
    "data = pd.read_csv('data/subreddits.csv')"
   ]
  },
  {
   "cell_type": "code",
   "execution_count": 6,
   "metadata": {},
   "outputs": [
    {
     "data": {
      "text/plain": [
       "body               0\n",
       "subreddit          0\n",
       "word_count         0\n",
       "tokenized        275\n",
       "clean_content    275\n",
       "extreme            0\n",
       "dtype: int64"
      ]
     },
     "execution_count": 6,
     "metadata": {},
     "output_type": "execute_result"
    }
   ],
   "source": [
    "data.isna().sum()"
   ]
  },
  {
   "cell_type": "markdown",
   "metadata": {},
   "source": [
    "## Drop the null values created from saving and re-importing to/from csv (from the NLP processing in the previous notebook, as discussed above):"
   ]
  },
  {
   "cell_type": "code",
   "execution_count": 7,
   "metadata": {},
   "outputs": [],
   "source": [
    "data.dropna(inplace=True)"
   ]
  },
  {
   "cell_type": "code",
   "execution_count": 8,
   "metadata": {},
   "outputs": [
    {
     "data": {
      "text/plain": [
       "body             0\n",
       "subreddit        0\n",
       "word_count       0\n",
       "tokenized        0\n",
       "clean_content    0\n",
       "extreme          0\n",
       "dtype: int64"
      ]
     },
     "execution_count": 8,
     "metadata": {},
     "output_type": "execute_result"
    }
   ],
   "source": [
    "data.isna().sum()"
   ]
  },
  {
   "cell_type": "markdown",
   "metadata": {},
   "source": [
    "## Create a subset of the dataset for classification modeling, of only the extremist posts (the full reddit dataset of extremist posts is too large to run the Spacy matching function across, so I'm running it across this sample to get an approximation of adjective counts):"
   ]
  },
  {
   "cell_type": "code",
   "execution_count": 54,
   "metadata": {},
   "outputs": [],
   "source": [
    "data_extrem = data.loc[data['extreme'] == 1]"
   ]
  },
  {
   "cell_type": "code",
   "execution_count": 55,
   "metadata": {},
   "outputs": [
    {
     "data": {
      "text/plain": [
       "(19812, 6)"
      ]
     },
     "execution_count": 55,
     "metadata": {},
     "output_type": "execute_result"
    }
   ],
   "source": [
    "data_extrem.shape"
   ]
  },
  {
   "cell_type": "code",
   "execution_count": 56,
   "metadata": {},
   "outputs": [
    {
     "data": {
      "text/plain": [
       "Index(['body', 'subreddit', 'word_count', 'tokenized', 'clean_content',\n",
       "       'extreme'],\n",
       "      dtype='object')"
      ]
     },
     "execution_count": 56,
     "metadata": {},
     "output_type": "execute_result"
    }
   ],
   "source": [
    "data_extrem.columns"
   ]
  },
  {
   "cell_type": "markdown",
   "metadata": {},
   "source": [
    "## Join the text of all the rows in the dataset (from the 'tokenized' column) together into one string:"
   ]
  },
  {
   "cell_type": "code",
   "execution_count": 57,
   "metadata": {},
   "outputs": [],
   "source": [
    "text_list = ', '.join(data_extrem['tokenized']) "
   ]
  },
  {
   "cell_type": "markdown",
   "metadata": {},
   "source": [
    "## Create a function that goes through the text string and returns a dictionary listing each adjective and the number of times it occurs:"
   ]
  },
  {
   "cell_type": "code",
   "execution_count": 58,
   "metadata": {},
   "outputs": [],
   "source": [
    "def count_adjectives(content):\n",
    "    matcher = Matcher(nlp.vocab)\n",
    "    patterns = [\n",
    "        [{'POS':'ADJ'}],  # look for all adjective POS types\n",
    "    ]\n",
    "    matcher.add('placeholder', patterns)  # 'placeholder' is there bc add() requires 2 args, not sure what else to put there\n",
    "    \n",
    "    doc = nlp(content)\n",
    "    matches = matcher(doc)\n",
    "    adj_list = []\n",
    "    \n",
    "    # go thru the row and ID all adjectives-\n",
    "    for match_id, start, end in matches:\n",
    "        string_id = nlp.vocab.strings[match_id]  # string representation\n",
    "        span = doc[start:end]  # matched span\n",
    "        # append the adjectives to the adj_list to be counted, below-\n",
    "        adj_list.append(span.text)  \n",
    "        \n",
    "    # create an empty dictionary for our adjective count-\n",
    "    adj_count = {}\n",
    "\n",
    "    # add all IDed adjectives to the dictionary with a count of how many times they appear-\n",
    "    for adj in range(len(adj_list)):\n",
    "        adj_count[adj_list[adj]] = adj_list.count(\n",
    "            adj_list[adj]\n",
    "            )\n",
    "\n",
    "    return adj_count\n",
    "\n",
    "# from:\n",
    "# https://stackoverflow.com/questions/66790591/spacy-extraction-of-an-adjective-that-precede-a-verb-and-isnt-a-stop-word-nor\n",
    "# https://medium.com/swlh/create-a-dictionary-from-a-list-65742246ab4b"
   ]
  },
  {
   "cell_type": "markdown",
   "metadata": {},
   "source": [
    "## Run the text string list through the function, returning the dictionary as a variable:"
   ]
  },
  {
   "cell_type": "code",
   "execution_count": 60,
   "metadata": {},
   "outputs": [],
   "source": [
    "text_adjs = count_adjectives(text_list)"
   ]
  },
  {
   "cell_type": "markdown",
   "metadata": {},
   "source": [
    "## Create a function that sorts the dictionary and returns a list of adjectives that occur more than 10 times, and each adjective's number of occurences:"
   ]
  },
  {
   "cell_type": "code",
   "execution_count": null,
   "metadata": {},
   "outputs": [],
   "source": [
    "def adj_sort(dict_to_sort):\n",
    "    adj_list = []\n",
    "    \n",
    "    for key, value in sorted(dict_to_sort.items(), key=lambda x: x[1], reverse = True):\n",
    "        if value >=10:\n",
    "            adj_list.append([key, value])\n",
    "\n",
    "    return adj_list\n",
    "\n",
    "# from Sean McNamara, Q5 answers"
   ]
  },
  {
   "cell_type": "code",
   "execution_count": 148,
   "metadata": {},
   "outputs": [
    {
     "data": {
      "text/plain": [
       "[['good', 443],\n",
       " ['bad', 234],\n",
       " ['fucking', 216],\n",
       " ['many', 215],\n",
       " ['right', 192],\n",
       " ['white', 178],\n",
       " ['much', 166],\n",
       " ['great', 146],\n",
       " ['big', 137],\n",
       " ['real', 132],\n",
       " ['political', 130],\n",
       " ['little', 126],\n",
       " ['first', 123],\n",
       " ['american', 121],\n",
       " ['old', 121],\n",
       " ['new', 118],\n",
       " ['sure', 116],\n",
       " ['better', 112],\n",
       " ['true', 109],\n",
       " ['last', 108],\n",
       " ['wrong', 105],\n",
       " ['best', 101],\n",
       " ['black', 101],\n",
       " ['free', 94],\n",
       " ['fake', 94],\n",
       " ['whole', 87],\n",
       " ['full', 84],\n",
       " ['liberal', 83],\n",
       " ['long', 83],\n",
       " ['leftist', 79],\n",
       " ['high', 79],\n",
       " ['least', 76],\n",
       " ['social', 75],\n",
       " ['funny', 74],\n",
       " ['different', 70],\n",
       " ['enough', 65],\n",
       " ['actual', 65],\n",
       " ['public', 65],\n",
       " ['next', 64],\n",
       " ['red', 63],\n",
       " ['top', 62],\n",
       " ['stupid', 62],\n",
       " ['non', 61],\n",
       " ['nice', 60],\n",
       " ['military', 59],\n",
       " ['anti', 59],\n",
       " ['possible', 57],\n",
       " ['rich', 56],\n",
       " ['single', 56],\n",
       " ['racist', 56],\n",
       " ['conservative', 55],\n",
       " ['entire', 54],\n",
       " ['human', 53],\n",
       " ['crazy', 52],\n",
       " ['poor', 51],\n",
       " ['open', 50],\n",
       " ['dumb', 50],\n",
       " ['important', 50],\n",
       " ['chinese', 49],\n",
       " ['western', 48],\n",
       " ['current', 47],\n",
       " ['sad', 47],\n",
       " ['huge', 47],\n",
       " ['deep', 47],\n",
       " ['evil', 47],\n",
       " ['due', 46],\n",
       " ['worse', 45],\n",
       " ['less', 45],\n",
       " ['hard', 44],\n",
       " ['mental', 43],\n",
       " ['second', 43],\n",
       " ['small', 42],\n",
       " ['corrupt', 42],\n",
       " ['dead', 42],\n",
       " ['socialist', 41],\n",
       " ['legal', 41],\n",
       " ['sorry', 41],\n",
       " ['foreign', 40],\n",
       " ['general', 40],\n",
       " ['low', 40],\n",
       " ['cool', 39],\n",
       " ['pro', 39],\n",
       " ['female', 39],\n",
       " ['young', 39],\n",
       " ['gay', 39],\n",
       " ['personal', 38],\n",
       " ['weird', 38],\n",
       " ['normal', 38],\n",
       " ['worth', 38],\n",
       " ['happy', 38],\n",
       " ['certain', 37],\n",
       " ['bunch', 37],\n",
       " ['fair', 37],\n",
       " ['local', 37],\n",
       " ['interesting', 36],\n",
       " ['middle', 35],\n",
       " ['late', 35],\n",
       " ['live', 35],\n",
       " ['serious', 35],\n",
       " ['national', 35],\n",
       " ['holy', 35],\n",
       " ['hot', 34],\n",
       " ['shitty', 34],\n",
       " ['massive', 34],\n",
       " ['russian', 34],\n",
       " ['fine', 33],\n",
       " ['honest', 33],\n",
       " ['front', 33],\n",
       " ['average', 33],\n",
       " ['special', 32],\n",
       " ['blue', 32],\n",
       " ['sick', 32],\n",
       " ['future', 32],\n",
       " ['third', 32],\n",
       " ['awesome', 31],\n",
       " ['higher', 31],\n",
       " ['obvious', 31],\n",
       " ['modern', 31],\n",
       " ['illegal', 31],\n",
       " ['able', 30],\n",
       " ['several', 30],\n",
       " ['republican', 30],\n",
       " ['private', 30],\n",
       " ['strong', 30],\n",
       " ['correct', 30],\n",
       " ['major', 30],\n",
       " ['damn', 29],\n",
       " ['smart', 29],\n",
       " ['net', 29],\n",
       " ['biggest', 29],\n",
       " ['clear', 29],\n",
       " ['amazing', 28],\n",
       " ['male', 28],\n",
       " ['common', 28],\n",
       " ['secret', 28],\n",
       " ['worst', 27],\n",
       " ['hilarious', 27],\n",
       " ['ready', 27],\n",
       " ['criminal', 27],\n",
       " ['perfect', 26],\n",
       " ['ethnic', 26],\n",
       " ['total', 26],\n",
       " ['large', 26],\n",
       " ['beautiful', 25],\n",
       " ['absolute', 25],\n",
       " ['federal', 25],\n",
       " ['medical', 25],\n",
       " ['violent', 25],\n",
       " ['left', 25],\n",
       " ['close', 25],\n",
       " ['communist', 25],\n",
       " ['mad', 24],\n",
       " ['fun', 24],\n",
       " ['insane', 24],\n",
       " ['negative', 24],\n",
       " ['easy', 23],\n",
       " ['early', 23],\n",
       " ['false', 23],\n",
       " ['half', 23],\n",
       " ['exact', 23],\n",
       " ['angry', 23],\n",
       " ['global', 23],\n",
       " ['multiple', 22],\n",
       " ['powerful', 22],\n",
       " ['sexual', 22],\n",
       " ['complete', 22],\n",
       " ['popular', 22],\n",
       " ['original', 21],\n",
       " ['corporate', 21],\n",
       " ['ridiculous', 21],\n",
       " ['green', 21],\n",
       " ['lower', 21],\n",
       " ['glad', 21],\n",
       " ['capitalist', 21],\n",
       " ['kind', 21],\n",
       " ['democratic', 20],\n",
       " ['pathetic', 20],\n",
       " ['libertarian', 20],\n",
       " ['terrible', 20],\n",
       " ['cultural', 20],\n",
       " ['official', 19],\n",
       " ['positive', 19],\n",
       " ['giant', 19],\n",
       " ['simple', 19],\n",
       " ['straight', 19],\n",
       " ['civil', 19],\n",
       " ['safe', 19],\n",
       " ['guilty', 19],\n",
       " ['bigger', 19],\n",
       " ['dark', 19],\n",
       " ['economic', 19],\n",
       " ['basic', 19],\n",
       " ['proud', 19],\n",
       " ['fat', 19],\n",
       " ['progressive', 19],\n",
       " ['tired', 18],\n",
       " ['homeless', 18],\n",
       " ['cold', 18],\n",
       " ['brave', 18],\n",
       " ['former', 18],\n",
       " ['super', 18],\n",
       " ['mean', 18],\n",
       " ['impossible', 18],\n",
       " ['marxist', 18],\n",
       " ['reasonable', 18],\n",
       " ['past', 18],\n",
       " ['recent', 18],\n",
       " ['mass', 17],\n",
       " ['various', 17],\n",
       " ['useful', 17],\n",
       " ['daily', 17],\n",
       " ['ill', 17],\n",
       " ['critical', 17],\n",
       " ['german', 17],\n",
       " ['primary', 17],\n",
       " ['similar', 17],\n",
       " ['short', 17],\n",
       " ['nuclear', 17],\n",
       " ['imperialist', 17],\n",
       " ['weak', 17],\n",
       " ['financial', 17],\n",
       " ['opposite', 17],\n",
       " ['surprised', 17],\n",
       " ['religious', 17],\n",
       " ['favorite', 17],\n",
       " ['easier', 17],\n",
       " ['native', 17],\n",
       " ['useless', 16],\n",
       " ['upper', 16],\n",
       " ['direct', 16],\n",
       " ['disgusting', 16],\n",
       " ['independent', 16],\n",
       " ['authoritarian', 16],\n",
       " ['main', 16],\n",
       " ['ignorant', 16],\n",
       " ['extra', 16],\n",
       " ['equal', 16],\n",
       " ['canadian', 16],\n",
       " ['british', 16],\n",
       " ['online', 16],\n",
       " ['willing', 15],\n",
       " ['subject', 15],\n",
       " ['dirty', 15],\n",
       " ['greatest', 15],\n",
       " ['brown', 15],\n",
       " ['retarded', 15],\n",
       " ['imperial', 15],\n",
       " ['moral', 15],\n",
       " ['radical', 15],\n",
       " ['specific', 15],\n",
       " ['natural', 14],\n",
       " ['bullshit', 14],\n",
       " ['previous', 14],\n",
       " ['older', 14],\n",
       " ['electoral', 14],\n",
       " ['okay', 14],\n",
       " ['endless', 14],\n",
       " ['younger', 14],\n",
       " ['alive', 14],\n",
       " ['constitutional', 14],\n",
       " ['muslim', 14],\n",
       " ['difficult', 14],\n",
       " ['available', 14],\n",
       " ['sweet', 14],\n",
       " ['particular', 14],\n",
       " ['fascist', 14],\n",
       " ['decent', 14],\n",
       " ['necessary', 14],\n",
       " ['awful', 14],\n",
       " ['light', 14],\n",
       " ['wealthy', 13],\n",
       " ['excellent', 13],\n",
       " ['reactionary', 13],\n",
       " ['quid', 13],\n",
       " ['lazy', 13],\n",
       " ['presidential', 13],\n",
       " ['slow', 13],\n",
       " ['typical', 13],\n",
       " ['highest', 13],\n",
       " ['south', 13],\n",
       " ['https', 13],\n",
       " ['physical', 12],\n",
       " ['dangerous', 12],\n",
       " ['quick', 12],\n",
       " ['significant', 12],\n",
       " ['brutal', 12],\n",
       " ['stable', 12],\n",
       " ['turkish', 12],\n",
       " ['ukrainian', 12],\n",
       " ['aware', 12],\n",
       " ['terrorist', 12],\n",
       " ['expensive', 12],\n",
       " ['double', 12],\n",
       " ['accountable', 12],\n",
       " ['jewish', 12],\n",
       " ['potential', 12],\n",
       " ['european', 12],\n",
       " ['individual', 12],\n",
       " ['larger', 12],\n",
       " ['proper', 12],\n",
       " ['pure', 12],\n",
       " ['famous', 12],\n",
       " ['innocent', 12],\n",
       " ['sexist', 12],\n",
       " ['likely', 12],\n",
       " ['final', 11],\n",
       " ['regular', 11],\n",
       " ['busy', 11],\n",
       " ['successful', 11],\n",
       " ['legitimate', 11],\n",
       " ['horrible', 11],\n",
       " ['complex', 11],\n",
       " ['vast', 11],\n",
       " ['ironic', 11],\n",
       " ['wonderful', 11],\n",
       " ['revolutionary', 11],\n",
       " ['earlier', 11],\n",
       " ['accurate', 11],\n",
       " ['constant', 11],\n",
       " ['international', 11],\n",
       " ['christian', 11],\n",
       " ['empty', 11],\n",
       " ['acceptable', 11],\n",
       " ['literal', 11],\n",
       " ['dem', 11],\n",
       " ['realistic', 11],\n",
       " ['fellow', 11],\n",
       " ['racial', 11],\n",
       " ['heavy', 10],\n",
       " ['traditional', 10],\n",
       " ['degenerate', 10],\n",
       " ['responsible', 10],\n",
       " ['standard', 10],\n",
       " ['ongoing', 10],\n",
       " ['fuckin', 10],\n",
       " ['curious', 10],\n",
       " ['ugly', 10],\n",
       " ['smaller', 10],\n",
       " ['capable', 10],\n",
       " ['genuine', 10],\n",
       " ['idiot', 10],\n",
       " ['desperate', 10],\n",
       " ['ok', 10],\n",
       " ['interested', 10],\n",
       " ['active', 10],\n",
       " ['grand', 10],\n",
       " ['random', 10],\n",
       " ['drunk', 10],\n",
       " ['toxic', 10],\n",
       " ['strange', 10],\n",
       " ['feminist', 10],\n",
       " ['afraid', 10],\n",
       " ['crooked', 10],\n",
       " ['domestic', 10],\n",
       " ['legit', 10],\n",
       " ['usual', 10],\n",
       " ['scary', 10],\n",
       " ['cheap', 10],\n",
       " ['incredible', 10],\n",
       " ['lucky', 10],\n",
       " ['extreme', 10],\n",
       " ['temporary', 10],\n",
       " ['greta', 10]]"
      ]
     },
     "execution_count": 148,
     "metadata": {},
     "output_type": "execute_result"
    }
   ],
   "source": [
    "sorted_adj_list = adj_sort(text_adjs)\n",
    "sorted_adj_list"
   ]
  },
  {
   "cell_type": "code",
   "execution_count": null,
   "metadata": {},
   "outputs": [],
   "source": [
    "# output the adjective list to a csv-\n",
    "\n",
    "sorted_adj_list.to_csv('./data/adjectives.csv', index=False)"
   ]
  },
  {
   "cell_type": "code",
   "execution_count": 61,
   "metadata": {},
   "outputs": [],
   "source": [
    "adj_list = pd.read_csv('data/adjectives.csv')"
   ]
  },
  {
   "cell_type": "code",
   "execution_count": 62,
   "metadata": {},
   "outputs": [
    {
     "data": {
      "text/html": [
       "<div>\n",
       "<style scoped>\n",
       "    .dataframe tbody tr th:only-of-type {\n",
       "        vertical-align: middle;\n",
       "    }\n",
       "\n",
       "    .dataframe tbody tr th {\n",
       "        vertical-align: top;\n",
       "    }\n",
       "\n",
       "    .dataframe thead th {\n",
       "        text-align: right;\n",
       "    }\n",
       "</style>\n",
       "<table border=\"1\" class=\"dataframe\">\n",
       "  <thead>\n",
       "    <tr style=\"text-align: right;\">\n",
       "      <th></th>\n",
       "      <th>adjectives</th>\n",
       "    </tr>\n",
       "  </thead>\n",
       "  <tbody>\n",
       "    <tr>\n",
       "      <th>0</th>\n",
       "      <td>[['good', 443],</td>\n",
       "    </tr>\n",
       "    <tr>\n",
       "      <th>1</th>\n",
       "      <td>['bad', 234],</td>\n",
       "    </tr>\n",
       "    <tr>\n",
       "      <th>2</th>\n",
       "      <td>['fucking', 216],</td>\n",
       "    </tr>\n",
       "    <tr>\n",
       "      <th>3</th>\n",
       "      <td>['many', 215],</td>\n",
       "    </tr>\n",
       "    <tr>\n",
       "      <th>4</th>\n",
       "      <td>['right', 192],</td>\n",
       "    </tr>\n",
       "    <tr>\n",
       "      <th>...</th>\n",
       "      <td>...</td>\n",
       "    </tr>\n",
       "    <tr>\n",
       "      <th>358</th>\n",
       "      <td>['incredible', 10],</td>\n",
       "    </tr>\n",
       "    <tr>\n",
       "      <th>359</th>\n",
       "      <td>['lucky', 10],</td>\n",
       "    </tr>\n",
       "    <tr>\n",
       "      <th>360</th>\n",
       "      <td>['extreme', 10],</td>\n",
       "    </tr>\n",
       "    <tr>\n",
       "      <th>361</th>\n",
       "      <td>['temporary', 10],</td>\n",
       "    </tr>\n",
       "    <tr>\n",
       "      <th>362</th>\n",
       "      <td>['greta', 10]]</td>\n",
       "    </tr>\n",
       "  </tbody>\n",
       "</table>\n",
       "<p>363 rows × 1 columns</p>\n",
       "</div>"
      ],
      "text/plain": [
       "              adjectives\n",
       "0        [['good', 443],\n",
       "1          ['bad', 234],\n",
       "2      ['fucking', 216],\n",
       "3         ['many', 215],\n",
       "4        ['right', 192],\n",
       "..                   ...\n",
       "358  ['incredible', 10],\n",
       "359       ['lucky', 10],\n",
       "360     ['extreme', 10],\n",
       "361   ['temporary', 10],\n",
       "362       ['greta', 10]]\n",
       "\n",
       "[363 rows x 1 columns]"
      ]
     },
     "execution_count": 62,
     "metadata": {},
     "output_type": "execute_result"
    }
   ],
   "source": [
    "adj_list"
   ]
  },
  {
   "cell_type": "code",
   "execution_count": 66,
   "metadata": {},
   "outputs": [],
   "source": [
    "# perform some cleaning, removing punctuation from the adjectives column-\n",
    "\n",
    "# adj_list['adjectives'] = adj_list['adjectives'].str.replace('[', '')\n",
    "# adj_list['adjectives'] = adj_list['adjectives'].str.replace(']', '')\n",
    "# adj_list['adjectives'] = adj_list['adjectives'].str.replace(\"'\", '')\n",
    "# adj_list['adjectives'] = adj_list['adjectives'].str.replace(',', '')"
   ]
  },
  {
   "cell_type": "code",
   "execution_count": 68,
   "metadata": {},
   "outputs": [],
   "source": [
    "# split the content of the adjectives column, on the space, into two columns (adjectives in one and their count in the other)-\n",
    "\n",
    "adj_list = adj_list['adjectives'].str.split(' ', expand=True)"
   ]
  },
  {
   "cell_type": "code",
   "execution_count": 69,
   "metadata": {},
   "outputs": [
    {
     "data": {
      "text/html": [
       "<div>\n",
       "<style scoped>\n",
       "    .dataframe tbody tr th:only-of-type {\n",
       "        vertical-align: middle;\n",
       "    }\n",
       "\n",
       "    .dataframe tbody tr th {\n",
       "        vertical-align: top;\n",
       "    }\n",
       "\n",
       "    .dataframe thead th {\n",
       "        text-align: right;\n",
       "    }\n",
       "</style>\n",
       "<table border=\"1\" class=\"dataframe\">\n",
       "  <thead>\n",
       "    <tr style=\"text-align: right;\">\n",
       "      <th></th>\n",
       "      <th>0</th>\n",
       "      <th>1</th>\n",
       "    </tr>\n",
       "  </thead>\n",
       "  <tbody>\n",
       "    <tr>\n",
       "      <th>0</th>\n",
       "      <td>good</td>\n",
       "      <td>443</td>\n",
       "    </tr>\n",
       "    <tr>\n",
       "      <th>1</th>\n",
       "      <td>bad</td>\n",
       "      <td>234</td>\n",
       "    </tr>\n",
       "    <tr>\n",
       "      <th>2</th>\n",
       "      <td>fucking</td>\n",
       "      <td>216</td>\n",
       "    </tr>\n",
       "    <tr>\n",
       "      <th>3</th>\n",
       "      <td>many</td>\n",
       "      <td>215</td>\n",
       "    </tr>\n",
       "    <tr>\n",
       "      <th>4</th>\n",
       "      <td>right</td>\n",
       "      <td>192</td>\n",
       "    </tr>\n",
       "    <tr>\n",
       "      <th>...</th>\n",
       "      <td>...</td>\n",
       "      <td>...</td>\n",
       "    </tr>\n",
       "    <tr>\n",
       "      <th>358</th>\n",
       "      <td>incredible</td>\n",
       "      <td>10</td>\n",
       "    </tr>\n",
       "    <tr>\n",
       "      <th>359</th>\n",
       "      <td>lucky</td>\n",
       "      <td>10</td>\n",
       "    </tr>\n",
       "    <tr>\n",
       "      <th>360</th>\n",
       "      <td>extreme</td>\n",
       "      <td>10</td>\n",
       "    </tr>\n",
       "    <tr>\n",
       "      <th>361</th>\n",
       "      <td>temporary</td>\n",
       "      <td>10</td>\n",
       "    </tr>\n",
       "    <tr>\n",
       "      <th>362</th>\n",
       "      <td>greta</td>\n",
       "      <td>10</td>\n",
       "    </tr>\n",
       "  </tbody>\n",
       "</table>\n",
       "<p>363 rows × 2 columns</p>\n",
       "</div>"
      ],
      "text/plain": [
       "              0    1\n",
       "0          good  443\n",
       "1           bad  234\n",
       "2       fucking  216\n",
       "3          many  215\n",
       "4         right  192\n",
       "..          ...  ...\n",
       "358  incredible   10\n",
       "359       lucky   10\n",
       "360     extreme   10\n",
       "361   temporary   10\n",
       "362       greta   10\n",
       "\n",
       "[363 rows x 2 columns]"
      ]
     },
     "execution_count": 69,
     "metadata": {},
     "output_type": "execute_result"
    }
   ],
   "source": [
    "adj_list"
   ]
  },
  {
   "cell_type": "code",
   "execution_count": 70,
   "metadata": {},
   "outputs": [],
   "source": [
    "# rename the columns-\n",
    "\n",
    "adj_list.rename(columns={0: 'adjective', 1: 'count'}, inplace=True)"
   ]
  },
  {
   "cell_type": "code",
   "execution_count": 71,
   "metadata": {},
   "outputs": [],
   "source": [
    "# re-type the count column as a float-\n",
    "\n",
    "adj_list['count']=adj_list['count'].astype(float)"
   ]
  },
  {
   "cell_type": "code",
   "execution_count": 72,
   "metadata": {},
   "outputs": [
    {
     "data": {
      "text/html": [
       "<div>\n",
       "<style scoped>\n",
       "    .dataframe tbody tr th:only-of-type {\n",
       "        vertical-align: middle;\n",
       "    }\n",
       "\n",
       "    .dataframe tbody tr th {\n",
       "        vertical-align: top;\n",
       "    }\n",
       "\n",
       "    .dataframe thead th {\n",
       "        text-align: right;\n",
       "    }\n",
       "</style>\n",
       "<table border=\"1\" class=\"dataframe\">\n",
       "  <thead>\n",
       "    <tr style=\"text-align: right;\">\n",
       "      <th></th>\n",
       "      <th>adjective</th>\n",
       "      <th>count</th>\n",
       "    </tr>\n",
       "  </thead>\n",
       "  <tbody>\n",
       "    <tr>\n",
       "      <th>0</th>\n",
       "      <td>good</td>\n",
       "      <td>443.0</td>\n",
       "    </tr>\n",
       "    <tr>\n",
       "      <th>1</th>\n",
       "      <td>bad</td>\n",
       "      <td>234.0</td>\n",
       "    </tr>\n",
       "    <tr>\n",
       "      <th>2</th>\n",
       "      <td>fucking</td>\n",
       "      <td>216.0</td>\n",
       "    </tr>\n",
       "    <tr>\n",
       "      <th>3</th>\n",
       "      <td>many</td>\n",
       "      <td>215.0</td>\n",
       "    </tr>\n",
       "    <tr>\n",
       "      <th>4</th>\n",
       "      <td>right</td>\n",
       "      <td>192.0</td>\n",
       "    </tr>\n",
       "    <tr>\n",
       "      <th>...</th>\n",
       "      <td>...</td>\n",
       "      <td>...</td>\n",
       "    </tr>\n",
       "    <tr>\n",
       "      <th>358</th>\n",
       "      <td>incredible</td>\n",
       "      <td>10.0</td>\n",
       "    </tr>\n",
       "    <tr>\n",
       "      <th>359</th>\n",
       "      <td>lucky</td>\n",
       "      <td>10.0</td>\n",
       "    </tr>\n",
       "    <tr>\n",
       "      <th>360</th>\n",
       "      <td>extreme</td>\n",
       "      <td>10.0</td>\n",
       "    </tr>\n",
       "    <tr>\n",
       "      <th>361</th>\n",
       "      <td>temporary</td>\n",
       "      <td>10.0</td>\n",
       "    </tr>\n",
       "    <tr>\n",
       "      <th>362</th>\n",
       "      <td>greta</td>\n",
       "      <td>10.0</td>\n",
       "    </tr>\n",
       "  </tbody>\n",
       "</table>\n",
       "<p>363 rows × 2 columns</p>\n",
       "</div>"
      ],
      "text/plain": [
       "      adjective  count\n",
       "0          good  443.0\n",
       "1           bad  234.0\n",
       "2       fucking  216.0\n",
       "3          many  215.0\n",
       "4         right  192.0\n",
       "..          ...    ...\n",
       "358  incredible   10.0\n",
       "359       lucky   10.0\n",
       "360     extreme   10.0\n",
       "361   temporary   10.0\n",
       "362       greta   10.0\n",
       "\n",
       "[363 rows x 2 columns]"
      ]
     },
     "execution_count": 72,
     "metadata": {},
     "output_type": "execute_result"
    }
   ],
   "source": [
    "adj_list"
   ]
  },
  {
   "cell_type": "code",
   "execution_count": 73,
   "metadata": {},
   "outputs": [
    {
     "name": "stdout",
     "output_type": "stream",
     "text": [
      "<class 'pandas.core.frame.DataFrame'>\n",
      "RangeIndex: 363 entries, 0 to 362\n",
      "Data columns (total 2 columns):\n",
      " #   Column     Non-Null Count  Dtype  \n",
      "---  ------     --------------  -----  \n",
      " 0   adjective  363 non-null    object \n",
      " 1   count      363 non-null    float64\n",
      "dtypes: float64(1), object(1)\n",
      "memory usage: 5.8+ KB\n"
     ]
    }
   ],
   "source": [
    "adj_list.info()"
   ]
  },
  {
   "cell_type": "code",
   "execution_count": 74,
   "metadata": {},
   "outputs": [
    {
     "data": {
      "text/html": [
       "<div>\n",
       "<style scoped>\n",
       "    .dataframe tbody tr th:only-of-type {\n",
       "        vertical-align: middle;\n",
       "    }\n",
       "\n",
       "    .dataframe tbody tr th {\n",
       "        vertical-align: top;\n",
       "    }\n",
       "\n",
       "    .dataframe thead th {\n",
       "        text-align: right;\n",
       "    }\n",
       "</style>\n",
       "<table border=\"1\" class=\"dataframe\">\n",
       "  <thead>\n",
       "    <tr style=\"text-align: right;\">\n",
       "      <th></th>\n",
       "      <th>adjective</th>\n",
       "      <th>count</th>\n",
       "    </tr>\n",
       "  </thead>\n",
       "  <tbody>\n",
       "    <tr>\n",
       "      <th>0</th>\n",
       "      <td>good</td>\n",
       "      <td>443.0</td>\n",
       "    </tr>\n",
       "    <tr>\n",
       "      <th>1</th>\n",
       "      <td>bad</td>\n",
       "      <td>234.0</td>\n",
       "    </tr>\n",
       "    <tr>\n",
       "      <th>2</th>\n",
       "      <td>fucking</td>\n",
       "      <td>216.0</td>\n",
       "    </tr>\n",
       "    <tr>\n",
       "      <th>3</th>\n",
       "      <td>many</td>\n",
       "      <td>215.0</td>\n",
       "    </tr>\n",
       "    <tr>\n",
       "      <th>4</th>\n",
       "      <td>right</td>\n",
       "      <td>192.0</td>\n",
       "    </tr>\n",
       "    <tr>\n",
       "      <th>5</th>\n",
       "      <td>white</td>\n",
       "      <td>178.0</td>\n",
       "    </tr>\n",
       "    <tr>\n",
       "      <th>6</th>\n",
       "      <td>much</td>\n",
       "      <td>166.0</td>\n",
       "    </tr>\n",
       "    <tr>\n",
       "      <th>7</th>\n",
       "      <td>great</td>\n",
       "      <td>146.0</td>\n",
       "    </tr>\n",
       "    <tr>\n",
       "      <th>8</th>\n",
       "      <td>big</td>\n",
       "      <td>137.0</td>\n",
       "    </tr>\n",
       "    <tr>\n",
       "      <th>9</th>\n",
       "      <td>real</td>\n",
       "      <td>132.0</td>\n",
       "    </tr>\n",
       "    <tr>\n",
       "      <th>10</th>\n",
       "      <td>political</td>\n",
       "      <td>130.0</td>\n",
       "    </tr>\n",
       "    <tr>\n",
       "      <th>11</th>\n",
       "      <td>little</td>\n",
       "      <td>126.0</td>\n",
       "    </tr>\n",
       "    <tr>\n",
       "      <th>12</th>\n",
       "      <td>first</td>\n",
       "      <td>123.0</td>\n",
       "    </tr>\n",
       "    <tr>\n",
       "      <th>13</th>\n",
       "      <td>american</td>\n",
       "      <td>121.0</td>\n",
       "    </tr>\n",
       "    <tr>\n",
       "      <th>14</th>\n",
       "      <td>old</td>\n",
       "      <td>121.0</td>\n",
       "    </tr>\n",
       "    <tr>\n",
       "      <th>15</th>\n",
       "      <td>new</td>\n",
       "      <td>118.0</td>\n",
       "    </tr>\n",
       "    <tr>\n",
       "      <th>16</th>\n",
       "      <td>sure</td>\n",
       "      <td>116.0</td>\n",
       "    </tr>\n",
       "    <tr>\n",
       "      <th>17</th>\n",
       "      <td>better</td>\n",
       "      <td>112.0</td>\n",
       "    </tr>\n",
       "    <tr>\n",
       "      <th>18</th>\n",
       "      <td>true</td>\n",
       "      <td>109.0</td>\n",
       "    </tr>\n",
       "    <tr>\n",
       "      <th>19</th>\n",
       "      <td>last</td>\n",
       "      <td>108.0</td>\n",
       "    </tr>\n",
       "    <tr>\n",
       "      <th>20</th>\n",
       "      <td>wrong</td>\n",
       "      <td>105.0</td>\n",
       "    </tr>\n",
       "    <tr>\n",
       "      <th>21</th>\n",
       "      <td>best</td>\n",
       "      <td>101.0</td>\n",
       "    </tr>\n",
       "    <tr>\n",
       "      <th>22</th>\n",
       "      <td>black</td>\n",
       "      <td>101.0</td>\n",
       "    </tr>\n",
       "    <tr>\n",
       "      <th>23</th>\n",
       "      <td>free</td>\n",
       "      <td>94.0</td>\n",
       "    </tr>\n",
       "    <tr>\n",
       "      <th>24</th>\n",
       "      <td>fake</td>\n",
       "      <td>94.0</td>\n",
       "    </tr>\n",
       "    <tr>\n",
       "      <th>25</th>\n",
       "      <td>whole</td>\n",
       "      <td>87.0</td>\n",
       "    </tr>\n",
       "    <tr>\n",
       "      <th>26</th>\n",
       "      <td>full</td>\n",
       "      <td>84.0</td>\n",
       "    </tr>\n",
       "    <tr>\n",
       "      <th>27</th>\n",
       "      <td>liberal</td>\n",
       "      <td>83.0</td>\n",
       "    </tr>\n",
       "    <tr>\n",
       "      <th>28</th>\n",
       "      <td>long</td>\n",
       "      <td>83.0</td>\n",
       "    </tr>\n",
       "    <tr>\n",
       "      <th>29</th>\n",
       "      <td>leftist</td>\n",
       "      <td>79.0</td>\n",
       "    </tr>\n",
       "  </tbody>\n",
       "</table>\n",
       "</div>"
      ],
      "text/plain": [
       "    adjective  count\n",
       "0        good  443.0\n",
       "1         bad  234.0\n",
       "2     fucking  216.0\n",
       "3        many  215.0\n",
       "4       right  192.0\n",
       "5       white  178.0\n",
       "6        much  166.0\n",
       "7       great  146.0\n",
       "8         big  137.0\n",
       "9        real  132.0\n",
       "10  political  130.0\n",
       "11     little  126.0\n",
       "12      first  123.0\n",
       "13   american  121.0\n",
       "14        old  121.0\n",
       "15        new  118.0\n",
       "16       sure  116.0\n",
       "17     better  112.0\n",
       "18       true  109.0\n",
       "19       last  108.0\n",
       "20      wrong  105.0\n",
       "21       best  101.0\n",
       "22      black  101.0\n",
       "23       free   94.0\n",
       "24       fake   94.0\n",
       "25      whole   87.0\n",
       "26       full   84.0\n",
       "27    liberal   83.0\n",
       "28       long   83.0\n",
       "29    leftist   79.0"
      ]
     },
     "execution_count": 74,
     "metadata": {},
     "output_type": "execute_result"
    }
   ],
   "source": [
    "# the top 30 most frequently occurring adjectives in the extremist dataset-\n",
    "\n",
    "adj_list.head(30)"
   ]
  },
  {
   "cell_type": "markdown",
   "metadata": {},
   "source": [
    "## Create another function that creates a new column listing each adjective in the associated content for the row, for use in subsequent modeling:"
   ]
  },
  {
   "cell_type": "code",
   "execution_count": 9,
   "metadata": {},
   "outputs": [],
   "source": [
    "def count_adjectives2(content):\n",
    "    matcher = Matcher(nlp.vocab)\n",
    "    patterns = [\n",
    "        [{'POS':'ADJ'}],  # look for all adjective POS types\n",
    "    ]\n",
    "    matcher.add('placeholder', patterns)  # 'placeholder' is there bc add() requires 2 args, not sure what else to put there\n",
    "    \n",
    "    doc = nlp(content)\n",
    "    matches = matcher(doc)\n",
    "    adj_list = []\n",
    "    \n",
    "    # go thru the row and ID all adjectives-\n",
    "    for match_id, start, end in matches:\n",
    "        string_id = nlp.vocab.strings[match_id]  # string representation\n",
    "        span = doc[start:end]  # matched span\n",
    "        # append the adjectives to the adj_list to be counted, below-\n",
    "        adj_list.append(span.text)  \n",
    "\n",
    "    return adj_list\n",
    "\n",
    "# from:\n",
    "# https://stackoverflow.com/questions/66790591/spacy-extraction-of-an-adjective-that-precede-a-verb-and-isnt-a-stop-word-nor\n",
    "# https://medium.com/swlh/create-a-dictionary-from-a-list-65742246ab4b"
   ]
  },
  {
   "cell_type": "code",
   "execution_count": 54,
   "metadata": {},
   "outputs": [],
   "source": [
    "# create a test set to check the code before running it across the entire df-\n",
    "\n",
    "test = data.tail()"
   ]
  },
  {
   "cell_type": "code",
   "execution_count": 53,
   "metadata": {},
   "outputs": [
    {
     "data": {
      "text/html": [
       "<div>\n",
       "<style scoped>\n",
       "    .dataframe tbody tr th:only-of-type {\n",
       "        vertical-align: middle;\n",
       "    }\n",
       "\n",
       "    .dataframe tbody tr th {\n",
       "        vertical-align: top;\n",
       "    }\n",
       "\n",
       "    .dataframe thead th {\n",
       "        text-align: right;\n",
       "    }\n",
       "</style>\n",
       "<table border=\"1\" class=\"dataframe\">\n",
       "  <thead>\n",
       "    <tr style=\"text-align: right;\">\n",
       "      <th></th>\n",
       "      <th>body</th>\n",
       "      <th>subreddit</th>\n",
       "      <th>word_count</th>\n",
       "      <th>tokenized</th>\n",
       "      <th>clean_content</th>\n",
       "      <th>extreme</th>\n",
       "    </tr>\n",
       "  </thead>\n",
       "  <tbody>\n",
       "    <tr>\n",
       "      <th>39995</th>\n",
       "      <td>&gt;Haha, yeah, I'm sure you're -really- influent...</td>\n",
       "      <td>ChapoTrapHouse</td>\n",
       "      <td>341</td>\n",
       "      <td>haha yeah i'm sure really influential stark ra...</td>\n",
       "      <td>haha yeah i'm sure realli influenti stark rave...</td>\n",
       "      <td>1</td>\n",
       "    </tr>\n",
       "    <tr>\n",
       "      <th>39996</th>\n",
       "      <td>Woah I didn't know that!  That does sound kind...</td>\n",
       "      <td>politics</td>\n",
       "      <td>15</td>\n",
       "      <td>woah know sound kinda sound like potential pro...</td>\n",
       "      <td>woah know sound kinda sound like potenti problem</td>\n",
       "      <td>0</td>\n",
       "    </tr>\n",
       "    <tr>\n",
       "      <th>39997</th>\n",
       "      <td>They don't actually care about Manning other t...</td>\n",
       "      <td>ChapoTrapHouse</td>\n",
       "      <td>26</td>\n",
       "      <td>actually care manning use argument even call a...</td>\n",
       "      <td>actual care man use argument even call acciden...</td>\n",
       "      <td>1</td>\n",
       "    </tr>\n",
       "    <tr>\n",
       "      <th>39998</th>\n",
       "      <td>I don't see anyone talking about shooting, exc...</td>\n",
       "      <td>politics</td>\n",
       "      <td>10</td>\n",
       "      <td>see anyone talking shooting except</td>\n",
       "      <td>see anyon talk shoot except</td>\n",
       "      <td>0</td>\n",
       "    </tr>\n",
       "    <tr>\n",
       "      <th>39999</th>\n",
       "      <td>Lib</td>\n",
       "      <td>ChapoTrapHouse</td>\n",
       "      <td>1</td>\n",
       "      <td>lib</td>\n",
       "      <td>lib</td>\n",
       "      <td>1</td>\n",
       "    </tr>\n",
       "  </tbody>\n",
       "</table>\n",
       "</div>"
      ],
      "text/plain": [
       "                                                    body       subreddit  \\\n",
       "39995  >Haha, yeah, I'm sure you're -really- influent...  ChapoTrapHouse   \n",
       "39996  Woah I didn't know that!  That does sound kind...        politics   \n",
       "39997  They don't actually care about Manning other t...  ChapoTrapHouse   \n",
       "39998  I don't see anyone talking about shooting, exc...        politics   \n",
       "39999                                                Lib  ChapoTrapHouse   \n",
       "\n",
       "       word_count                                          tokenized  \\\n",
       "39995         341  haha yeah i'm sure really influential stark ra...   \n",
       "39996          15  woah know sound kinda sound like potential pro...   \n",
       "39997          26  actually care manning use argument even call a...   \n",
       "39998          10                 see anyone talking shooting except   \n",
       "39999           1                                                lib   \n",
       "\n",
       "                                           clean_content  extreme  \n",
       "39995  haha yeah i'm sure realli influenti stark rave...        1  \n",
       "39996   woah know sound kinda sound like potenti problem        0  \n",
       "39997  actual care man use argument even call acciden...        1  \n",
       "39998                        see anyon talk shoot except        0  \n",
       "39999                                                lib        1  "
      ]
     },
     "execution_count": 53,
     "metadata": {},
     "output_type": "execute_result"
    }
   ],
   "source": [
    "test"
   ]
  },
  {
   "cell_type": "code",
   "execution_count": 55,
   "metadata": {},
   "outputs": [],
   "source": [
    "# run the test df across the count_adjectives2 function, above, to check that it works-\n",
    "\n",
    "test['adjectives'] = test['tokenized'].map(count_adjectives2)"
   ]
  },
  {
   "cell_type": "code",
   "execution_count": 56,
   "metadata": {},
   "outputs": [
    {
     "data": {
      "text/html": [
       "<div>\n",
       "<style scoped>\n",
       "    .dataframe tbody tr th:only-of-type {\n",
       "        vertical-align: middle;\n",
       "    }\n",
       "\n",
       "    .dataframe tbody tr th {\n",
       "        vertical-align: top;\n",
       "    }\n",
       "\n",
       "    .dataframe thead th {\n",
       "        text-align: right;\n",
       "    }\n",
       "</style>\n",
       "<table border=\"1\" class=\"dataframe\">\n",
       "  <thead>\n",
       "    <tr style=\"text-align: right;\">\n",
       "      <th></th>\n",
       "      <th>body</th>\n",
       "      <th>subreddit</th>\n",
       "      <th>word_count</th>\n",
       "      <th>tokenized</th>\n",
       "      <th>clean_content</th>\n",
       "      <th>extreme</th>\n",
       "      <th>adjectives</th>\n",
       "    </tr>\n",
       "  </thead>\n",
       "  <tbody>\n",
       "    <tr>\n",
       "      <th>39995</th>\n",
       "      <td>&gt;Haha, yeah, I'm sure you're -really- influent...</td>\n",
       "      <td>ChapoTrapHouse</td>\n",
       "      <td>341</td>\n",
       "      <td>haha yeah i'm sure really influential stark ra...</td>\n",
       "      <td>haha yeah i'm sure realli influenti stark rave...</td>\n",
       "      <td>1</td>\n",
       "      <td>[sure, influential, stark, mad, communist, big...</td>\n",
       "    </tr>\n",
       "    <tr>\n",
       "      <th>39996</th>\n",
       "      <td>Woah I didn't know that!  That does sound kind...</td>\n",
       "      <td>politics</td>\n",
       "      <td>15</td>\n",
       "      <td>woah know sound kinda sound like potential pro...</td>\n",
       "      <td>woah know sound kinda sound like potenti problem</td>\n",
       "      <td>0</td>\n",
       "      <td>[sound, potential]</td>\n",
       "    </tr>\n",
       "    <tr>\n",
       "      <th>39997</th>\n",
       "      <td>They don't actually care about Manning other t...</td>\n",
       "      <td>ChapoTrapHouse</td>\n",
       "      <td>26</td>\n",
       "      <td>actually care manning use argument even call a...</td>\n",
       "      <td>actual care man use argument even call acciden...</td>\n",
       "      <td>1</td>\n",
       "      <td>[]</td>\n",
       "    </tr>\n",
       "    <tr>\n",
       "      <th>39998</th>\n",
       "      <td>I don't see anyone talking about shooting, exc...</td>\n",
       "      <td>politics</td>\n",
       "      <td>10</td>\n",
       "      <td>see anyone talking shooting except</td>\n",
       "      <td>see anyon talk shoot except</td>\n",
       "      <td>0</td>\n",
       "      <td>[]</td>\n",
       "    </tr>\n",
       "    <tr>\n",
       "      <th>39999</th>\n",
       "      <td>Lib</td>\n",
       "      <td>ChapoTrapHouse</td>\n",
       "      <td>1</td>\n",
       "      <td>lib</td>\n",
       "      <td>lib</td>\n",
       "      <td>1</td>\n",
       "      <td>[]</td>\n",
       "    </tr>\n",
       "  </tbody>\n",
       "</table>\n",
       "</div>"
      ],
      "text/plain": [
       "                                                    body       subreddit  \\\n",
       "39995  >Haha, yeah, I'm sure you're -really- influent...  ChapoTrapHouse   \n",
       "39996  Woah I didn't know that!  That does sound kind...        politics   \n",
       "39997  They don't actually care about Manning other t...  ChapoTrapHouse   \n",
       "39998  I don't see anyone talking about shooting, exc...        politics   \n",
       "39999                                                Lib  ChapoTrapHouse   \n",
       "\n",
       "       word_count                                          tokenized  \\\n",
       "39995         341  haha yeah i'm sure really influential stark ra...   \n",
       "39996          15  woah know sound kinda sound like potential pro...   \n",
       "39997          26  actually care manning use argument even call a...   \n",
       "39998          10                 see anyone talking shooting except   \n",
       "39999           1                                                lib   \n",
       "\n",
       "                                           clean_content  extreme  \\\n",
       "39995  haha yeah i'm sure realli influenti stark rave...        1   \n",
       "39996   woah know sound kinda sound like potenti problem        0   \n",
       "39997  actual care man use argument even call acciden...        1   \n",
       "39998                        see anyon talk shoot except        0   \n",
       "39999                                                lib        1   \n",
       "\n",
       "                                              adjectives  \n",
       "39995  [sure, influential, stark, mad, communist, big...  \n",
       "39996                                 [sound, potential]  \n",
       "39997                                                 []  \n",
       "39998                                                 []  \n",
       "39999                                                 []  "
      ]
     },
     "execution_count": 56,
     "metadata": {},
     "output_type": "execute_result"
    }
   ],
   "source": [
    "test"
   ]
  },
  {
   "cell_type": "code",
   "execution_count": 57,
   "metadata": {},
   "outputs": [],
   "source": [
    "# 'de-listify' the text in the adjectives column, creating a new column of strings-\n",
    "\n",
    "test['adj_string'] = [' '.join(map(str, l)) for l in test['adjectives']]"
   ]
  },
  {
   "cell_type": "code",
   "execution_count": 58,
   "metadata": {},
   "outputs": [
    {
     "data": {
      "text/html": [
       "<div>\n",
       "<style scoped>\n",
       "    .dataframe tbody tr th:only-of-type {\n",
       "        vertical-align: middle;\n",
       "    }\n",
       "\n",
       "    .dataframe tbody tr th {\n",
       "        vertical-align: top;\n",
       "    }\n",
       "\n",
       "    .dataframe thead th {\n",
       "        text-align: right;\n",
       "    }\n",
       "</style>\n",
       "<table border=\"1\" class=\"dataframe\">\n",
       "  <thead>\n",
       "    <tr style=\"text-align: right;\">\n",
       "      <th></th>\n",
       "      <th>body</th>\n",
       "      <th>subreddit</th>\n",
       "      <th>word_count</th>\n",
       "      <th>tokenized</th>\n",
       "      <th>clean_content</th>\n",
       "      <th>extreme</th>\n",
       "      <th>adjectives</th>\n",
       "      <th>adj_string</th>\n",
       "    </tr>\n",
       "  </thead>\n",
       "  <tbody>\n",
       "    <tr>\n",
       "      <th>39995</th>\n",
       "      <td>&gt;Haha, yeah, I'm sure you're -really- influent...</td>\n",
       "      <td>ChapoTrapHouse</td>\n",
       "      <td>341</td>\n",
       "      <td>haha yeah i'm sure really influential stark ra...</td>\n",
       "      <td>haha yeah i'm sure realli influenti stark rave...</td>\n",
       "      <td>1</td>\n",
       "      <td>[sure, influential, stark, mad, communist, big...</td>\n",
       "      <td>sure influential stark mad communist big speak...</td>\n",
       "    </tr>\n",
       "    <tr>\n",
       "      <th>39996</th>\n",
       "      <td>Woah I didn't know that!  That does sound kind...</td>\n",
       "      <td>politics</td>\n",
       "      <td>15</td>\n",
       "      <td>woah know sound kinda sound like potential pro...</td>\n",
       "      <td>woah know sound kinda sound like potenti problem</td>\n",
       "      <td>0</td>\n",
       "      <td>[sound, potential]</td>\n",
       "      <td>sound potential</td>\n",
       "    </tr>\n",
       "    <tr>\n",
       "      <th>39997</th>\n",
       "      <td>They don't actually care about Manning other t...</td>\n",
       "      <td>ChapoTrapHouse</td>\n",
       "      <td>26</td>\n",
       "      <td>actually care manning use argument even call a...</td>\n",
       "      <td>actual care man use argument even call acciden...</td>\n",
       "      <td>1</td>\n",
       "      <td>[]</td>\n",
       "      <td></td>\n",
       "    </tr>\n",
       "    <tr>\n",
       "      <th>39998</th>\n",
       "      <td>I don't see anyone talking about shooting, exc...</td>\n",
       "      <td>politics</td>\n",
       "      <td>10</td>\n",
       "      <td>see anyone talking shooting except</td>\n",
       "      <td>see anyon talk shoot except</td>\n",
       "      <td>0</td>\n",
       "      <td>[]</td>\n",
       "      <td></td>\n",
       "    </tr>\n",
       "    <tr>\n",
       "      <th>39999</th>\n",
       "      <td>Lib</td>\n",
       "      <td>ChapoTrapHouse</td>\n",
       "      <td>1</td>\n",
       "      <td>lib</td>\n",
       "      <td>lib</td>\n",
       "      <td>1</td>\n",
       "      <td>[]</td>\n",
       "      <td></td>\n",
       "    </tr>\n",
       "  </tbody>\n",
       "</table>\n",
       "</div>"
      ],
      "text/plain": [
       "                                                    body       subreddit  \\\n",
       "39995  >Haha, yeah, I'm sure you're -really- influent...  ChapoTrapHouse   \n",
       "39996  Woah I didn't know that!  That does sound kind...        politics   \n",
       "39997  They don't actually care about Manning other t...  ChapoTrapHouse   \n",
       "39998  I don't see anyone talking about shooting, exc...        politics   \n",
       "39999                                                Lib  ChapoTrapHouse   \n",
       "\n",
       "       word_count                                          tokenized  \\\n",
       "39995         341  haha yeah i'm sure really influential stark ra...   \n",
       "39996          15  woah know sound kinda sound like potential pro...   \n",
       "39997          26  actually care manning use argument even call a...   \n",
       "39998          10                 see anyone talking shooting except   \n",
       "39999           1                                                lib   \n",
       "\n",
       "                                           clean_content  extreme  \\\n",
       "39995  haha yeah i'm sure realli influenti stark rave...        1   \n",
       "39996   woah know sound kinda sound like potenti problem        0   \n",
       "39997  actual care man use argument even call acciden...        1   \n",
       "39998                        see anyon talk shoot except        0   \n",
       "39999                                                lib        1   \n",
       "\n",
       "                                              adjectives  \\\n",
       "39995  [sure, influential, stark, mad, communist, big...   \n",
       "39996                                 [sound, potential]   \n",
       "39997                                                 []   \n",
       "39998                                                 []   \n",
       "39999                                                 []   \n",
       "\n",
       "                                              adj_string  \n",
       "39995  sure influential stark mad communist big speak...  \n",
       "39996                                    sound potential  \n",
       "39997                                                     \n",
       "39998                                                     \n",
       "39999                                                     "
      ]
     },
     "execution_count": 58,
     "metadata": {},
     "output_type": "execute_result"
    }
   ],
   "source": [
    "test"
   ]
  },
  {
   "cell_type": "code",
   "execution_count": 33,
   "metadata": {},
   "outputs": [],
   "source": [
    "# run the adjective list function across the entire modeling dataset (the data to be modeled in the next notebook- \n",
    "# 20_000 extremist and 20_000 non-extremist posts)-\n",
    "\n",
    "data['adjectives'] = data['tokenized'].map(count_adjectives2)"
   ]
  },
  {
   "cell_type": "code",
   "execution_count": 39,
   "metadata": {},
   "outputs": [
    {
     "data": {
      "text/html": [
       "<div>\n",
       "<style scoped>\n",
       "    .dataframe tbody tr th:only-of-type {\n",
       "        vertical-align: middle;\n",
       "    }\n",
       "\n",
       "    .dataframe tbody tr th {\n",
       "        vertical-align: top;\n",
       "    }\n",
       "\n",
       "    .dataframe thead th {\n",
       "        text-align: right;\n",
       "    }\n",
       "</style>\n",
       "<table border=\"1\" class=\"dataframe\">\n",
       "  <thead>\n",
       "    <tr style=\"text-align: right;\">\n",
       "      <th></th>\n",
       "      <th>body</th>\n",
       "      <th>subreddit</th>\n",
       "      <th>word_count</th>\n",
       "      <th>tokenized</th>\n",
       "      <th>clean_content</th>\n",
       "      <th>extreme</th>\n",
       "      <th>adjectives</th>\n",
       "    </tr>\n",
       "  </thead>\n",
       "  <tbody>\n",
       "    <tr>\n",
       "      <th>0</th>\n",
       "      <td>- Official slogan of Pepsi</td>\n",
       "      <td>politics</td>\n",
       "      <td>5</td>\n",
       "      <td>official slogan pepsi</td>\n",
       "      <td>offici slogan pepsi</td>\n",
       "      <td>0</td>\n",
       "      <td>[official]</td>\n",
       "    </tr>\n",
       "    <tr>\n",
       "      <th>1</th>\n",
       "      <td>\"took\" should be \"freed\"</td>\n",
       "      <td>ChapoTrapHouse</td>\n",
       "      <td>4</td>\n",
       "      <td>took freed</td>\n",
       "      <td>took freed</td>\n",
       "      <td>1</td>\n",
       "      <td>[]</td>\n",
       "    </tr>\n",
       "    <tr>\n",
       "      <th>2</th>\n",
       "      <td>Will tribes be completely free speech?</td>\n",
       "      <td>TheRedPill</td>\n",
       "      <td>6</td>\n",
       "      <td>tribes completely free speech</td>\n",
       "      <td>tribe complet free speech</td>\n",
       "      <td>1</td>\n",
       "      <td>[free]</td>\n",
       "    </tr>\n",
       "    <tr>\n",
       "      <th>3</th>\n",
       "      <td>Not an accident. They have crowned their queen...</td>\n",
       "      <td>The_Donald</td>\n",
       "      <td>25</td>\n",
       "      <td>accident crowned queen already warren others g...</td>\n",
       "      <td>accid crown queen alreadi warren other get pla...</td>\n",
       "      <td>1</td>\n",
       "      <td>[]</td>\n",
       "    </tr>\n",
       "    <tr>\n",
       "      <th>4</th>\n",
       "      <td>Fucking love this man</td>\n",
       "      <td>The_Donald</td>\n",
       "      <td>4</td>\n",
       "      <td>fucking love man</td>\n",
       "      <td>fuck love man</td>\n",
       "      <td>1</td>\n",
       "      <td>[fucking]</td>\n",
       "    </tr>\n",
       "    <tr>\n",
       "      <th>...</th>\n",
       "      <td>...</td>\n",
       "      <td>...</td>\n",
       "      <td>...</td>\n",
       "      <td>...</td>\n",
       "      <td>...</td>\n",
       "      <td>...</td>\n",
       "      <td>...</td>\n",
       "    </tr>\n",
       "    <tr>\n",
       "      <th>39995</th>\n",
       "      <td>&gt;Haha, yeah, I'm sure you're -really- influent...</td>\n",
       "      <td>ChapoTrapHouse</td>\n",
       "      <td>341</td>\n",
       "      <td>haha yeah i'm sure really influential stark ra...</td>\n",
       "      <td>haha yeah i'm sure realli influenti stark rave...</td>\n",
       "      <td>1</td>\n",
       "      <td>[sure, influential, stark, mad, communist, big...</td>\n",
       "    </tr>\n",
       "    <tr>\n",
       "      <th>39996</th>\n",
       "      <td>Woah I didn't know that!  That does sound kind...</td>\n",
       "      <td>politics</td>\n",
       "      <td>15</td>\n",
       "      <td>woah know sound kinda sound like potential pro...</td>\n",
       "      <td>woah know sound kinda sound like potenti problem</td>\n",
       "      <td>0</td>\n",
       "      <td>[sound, potential]</td>\n",
       "    </tr>\n",
       "    <tr>\n",
       "      <th>39997</th>\n",
       "      <td>They don't actually care about Manning other t...</td>\n",
       "      <td>ChapoTrapHouse</td>\n",
       "      <td>26</td>\n",
       "      <td>actually care manning use argument even call a...</td>\n",
       "      <td>actual care man use argument even call acciden...</td>\n",
       "      <td>1</td>\n",
       "      <td>[]</td>\n",
       "    </tr>\n",
       "    <tr>\n",
       "      <th>39998</th>\n",
       "      <td>I don't see anyone talking about shooting, exc...</td>\n",
       "      <td>politics</td>\n",
       "      <td>10</td>\n",
       "      <td>see anyone talking shooting except</td>\n",
       "      <td>see anyon talk shoot except</td>\n",
       "      <td>0</td>\n",
       "      <td>[]</td>\n",
       "    </tr>\n",
       "    <tr>\n",
       "      <th>39999</th>\n",
       "      <td>Lib</td>\n",
       "      <td>ChapoTrapHouse</td>\n",
       "      <td>1</td>\n",
       "      <td>lib</td>\n",
       "      <td>lib</td>\n",
       "      <td>1</td>\n",
       "      <td>[]</td>\n",
       "    </tr>\n",
       "  </tbody>\n",
       "</table>\n",
       "<p>39725 rows × 7 columns</p>\n",
       "</div>"
      ],
      "text/plain": [
       "                                                    body       subreddit  \\\n",
       "0                             - Official slogan of Pepsi        politics   \n",
       "1                               \"took\" should be \"freed\"  ChapoTrapHouse   \n",
       "2                 Will tribes be completely free speech?      TheRedPill   \n",
       "3      Not an accident. They have crowned their queen...      The_Donald   \n",
       "4                                  Fucking love this man      The_Donald   \n",
       "...                                                  ...             ...   \n",
       "39995  >Haha, yeah, I'm sure you're -really- influent...  ChapoTrapHouse   \n",
       "39996  Woah I didn't know that!  That does sound kind...        politics   \n",
       "39997  They don't actually care about Manning other t...  ChapoTrapHouse   \n",
       "39998  I don't see anyone talking about shooting, exc...        politics   \n",
       "39999                                                Lib  ChapoTrapHouse   \n",
       "\n",
       "       word_count                                          tokenized  \\\n",
       "0               5                              official slogan pepsi   \n",
       "1               4                                         took freed   \n",
       "2               6                      tribes completely free speech   \n",
       "3              25  accident crowned queen already warren others g...   \n",
       "4               4                                   fucking love man   \n",
       "...           ...                                                ...   \n",
       "39995         341  haha yeah i'm sure really influential stark ra...   \n",
       "39996          15  woah know sound kinda sound like potential pro...   \n",
       "39997          26  actually care manning use argument even call a...   \n",
       "39998          10                 see anyone talking shooting except   \n",
       "39999           1                                                lib   \n",
       "\n",
       "                                           clean_content  extreme  \\\n",
       "0                                    offici slogan pepsi        0   \n",
       "1                                             took freed        1   \n",
       "2                              tribe complet free speech        1   \n",
       "3      accid crown queen alreadi warren other get pla...        1   \n",
       "4                                          fuck love man        1   \n",
       "...                                                  ...      ...   \n",
       "39995  haha yeah i'm sure realli influenti stark rave...        1   \n",
       "39996   woah know sound kinda sound like potenti problem        0   \n",
       "39997  actual care man use argument even call acciden...        1   \n",
       "39998                        see anyon talk shoot except        0   \n",
       "39999                                                lib        1   \n",
       "\n",
       "                                              adjectives  \n",
       "0                                             [official]  \n",
       "1                                                     []  \n",
       "2                                                 [free]  \n",
       "3                                                     []  \n",
       "4                                              [fucking]  \n",
       "...                                                  ...  \n",
       "39995  [sure, influential, stark, mad, communist, big...  \n",
       "39996                                 [sound, potential]  \n",
       "39997                                                 []  \n",
       "39998                                                 []  \n",
       "39999                                                 []  \n",
       "\n",
       "[39725 rows x 7 columns]"
      ]
     },
     "execution_count": 39,
     "metadata": {},
     "output_type": "execute_result"
    }
   ],
   "source": [
    "data"
   ]
  },
  {
   "cell_type": "code",
   "execution_count": 47,
   "metadata": {},
   "outputs": [],
   "source": [
    "# run the code to create a new column of adjective strings from the lists-\n",
    "\n",
    "data['adj_string'] = [' '.join(map(str, l)) for l in data['adjectives']]"
   ]
  },
  {
   "cell_type": "code",
   "execution_count": 59,
   "metadata": {},
   "outputs": [
    {
     "data": {
      "text/html": [
       "<div>\n",
       "<style scoped>\n",
       "    .dataframe tbody tr th:only-of-type {\n",
       "        vertical-align: middle;\n",
       "    }\n",
       "\n",
       "    .dataframe tbody tr th {\n",
       "        vertical-align: top;\n",
       "    }\n",
       "\n",
       "    .dataframe thead th {\n",
       "        text-align: right;\n",
       "    }\n",
       "</style>\n",
       "<table border=\"1\" class=\"dataframe\">\n",
       "  <thead>\n",
       "    <tr style=\"text-align: right;\">\n",
       "      <th></th>\n",
       "      <th>body</th>\n",
       "      <th>subreddit</th>\n",
       "      <th>word_count</th>\n",
       "      <th>tokenized</th>\n",
       "      <th>clean_content</th>\n",
       "      <th>extreme</th>\n",
       "      <th>adjectives</th>\n",
       "      <th>adj_string</th>\n",
       "    </tr>\n",
       "  </thead>\n",
       "  <tbody>\n",
       "    <tr>\n",
       "      <th>0</th>\n",
       "      <td>- Official slogan of Pepsi</td>\n",
       "      <td>politics</td>\n",
       "      <td>5</td>\n",
       "      <td>official slogan pepsi</td>\n",
       "      <td>offici slogan pepsi</td>\n",
       "      <td>0</td>\n",
       "      <td>[official]</td>\n",
       "      <td>official</td>\n",
       "    </tr>\n",
       "    <tr>\n",
       "      <th>1</th>\n",
       "      <td>\"took\" should be \"freed\"</td>\n",
       "      <td>ChapoTrapHouse</td>\n",
       "      <td>4</td>\n",
       "      <td>took freed</td>\n",
       "      <td>took freed</td>\n",
       "      <td>1</td>\n",
       "      <td>[]</td>\n",
       "      <td></td>\n",
       "    </tr>\n",
       "    <tr>\n",
       "      <th>2</th>\n",
       "      <td>Will tribes be completely free speech?</td>\n",
       "      <td>TheRedPill</td>\n",
       "      <td>6</td>\n",
       "      <td>tribes completely free speech</td>\n",
       "      <td>tribe complet free speech</td>\n",
       "      <td>1</td>\n",
       "      <td>[free]</td>\n",
       "      <td>free</td>\n",
       "    </tr>\n",
       "    <tr>\n",
       "      <th>3</th>\n",
       "      <td>Not an accident. They have crowned their queen...</td>\n",
       "      <td>The_Donald</td>\n",
       "      <td>25</td>\n",
       "      <td>accident crowned queen already warren others g...</td>\n",
       "      <td>accid crown queen alreadi warren other get pla...</td>\n",
       "      <td>1</td>\n",
       "      <td>[]</td>\n",
       "      <td></td>\n",
       "    </tr>\n",
       "    <tr>\n",
       "      <th>4</th>\n",
       "      <td>Fucking love this man</td>\n",
       "      <td>The_Donald</td>\n",
       "      <td>4</td>\n",
       "      <td>fucking love man</td>\n",
       "      <td>fuck love man</td>\n",
       "      <td>1</td>\n",
       "      <td>[fucking]</td>\n",
       "      <td>fucking</td>\n",
       "    </tr>\n",
       "    <tr>\n",
       "      <th>...</th>\n",
       "      <td>...</td>\n",
       "      <td>...</td>\n",
       "      <td>...</td>\n",
       "      <td>...</td>\n",
       "      <td>...</td>\n",
       "      <td>...</td>\n",
       "      <td>...</td>\n",
       "      <td>...</td>\n",
       "    </tr>\n",
       "    <tr>\n",
       "      <th>39995</th>\n",
       "      <td>&gt;Haha, yeah, I'm sure you're -really- influent...</td>\n",
       "      <td>ChapoTrapHouse</td>\n",
       "      <td>341</td>\n",
       "      <td>haha yeah i'm sure really influential stark ra...</td>\n",
       "      <td>haha yeah i'm sure realli influenti stark rave...</td>\n",
       "      <td>1</td>\n",
       "      <td>[sure, influential, stark, mad, communist, big...</td>\n",
       "      <td>sure influential stark mad communist big speak...</td>\n",
       "    </tr>\n",
       "    <tr>\n",
       "      <th>39996</th>\n",
       "      <td>Woah I didn't know that!  That does sound kind...</td>\n",
       "      <td>politics</td>\n",
       "      <td>15</td>\n",
       "      <td>woah know sound kinda sound like potential pro...</td>\n",
       "      <td>woah know sound kinda sound like potenti problem</td>\n",
       "      <td>0</td>\n",
       "      <td>[sound, potential]</td>\n",
       "      <td>sound potential</td>\n",
       "    </tr>\n",
       "    <tr>\n",
       "      <th>39997</th>\n",
       "      <td>They don't actually care about Manning other t...</td>\n",
       "      <td>ChapoTrapHouse</td>\n",
       "      <td>26</td>\n",
       "      <td>actually care manning use argument even call a...</td>\n",
       "      <td>actual care man use argument even call acciden...</td>\n",
       "      <td>1</td>\n",
       "      <td>[]</td>\n",
       "      <td></td>\n",
       "    </tr>\n",
       "    <tr>\n",
       "      <th>39998</th>\n",
       "      <td>I don't see anyone talking about shooting, exc...</td>\n",
       "      <td>politics</td>\n",
       "      <td>10</td>\n",
       "      <td>see anyone talking shooting except</td>\n",
       "      <td>see anyon talk shoot except</td>\n",
       "      <td>0</td>\n",
       "      <td>[]</td>\n",
       "      <td></td>\n",
       "    </tr>\n",
       "    <tr>\n",
       "      <th>39999</th>\n",
       "      <td>Lib</td>\n",
       "      <td>ChapoTrapHouse</td>\n",
       "      <td>1</td>\n",
       "      <td>lib</td>\n",
       "      <td>lib</td>\n",
       "      <td>1</td>\n",
       "      <td>[]</td>\n",
       "      <td></td>\n",
       "    </tr>\n",
       "  </tbody>\n",
       "</table>\n",
       "<p>39725 rows × 8 columns</p>\n",
       "</div>"
      ],
      "text/plain": [
       "                                                    body       subreddit  \\\n",
       "0                             - Official slogan of Pepsi        politics   \n",
       "1                               \"took\" should be \"freed\"  ChapoTrapHouse   \n",
       "2                 Will tribes be completely free speech?      TheRedPill   \n",
       "3      Not an accident. They have crowned their queen...      The_Donald   \n",
       "4                                  Fucking love this man      The_Donald   \n",
       "...                                                  ...             ...   \n",
       "39995  >Haha, yeah, I'm sure you're -really- influent...  ChapoTrapHouse   \n",
       "39996  Woah I didn't know that!  That does sound kind...        politics   \n",
       "39997  They don't actually care about Manning other t...  ChapoTrapHouse   \n",
       "39998  I don't see anyone talking about shooting, exc...        politics   \n",
       "39999                                                Lib  ChapoTrapHouse   \n",
       "\n",
       "       word_count                                          tokenized  \\\n",
       "0               5                              official slogan pepsi   \n",
       "1               4                                         took freed   \n",
       "2               6                      tribes completely free speech   \n",
       "3              25  accident crowned queen already warren others g...   \n",
       "4               4                                   fucking love man   \n",
       "...           ...                                                ...   \n",
       "39995         341  haha yeah i'm sure really influential stark ra...   \n",
       "39996          15  woah know sound kinda sound like potential pro...   \n",
       "39997          26  actually care manning use argument even call a...   \n",
       "39998          10                 see anyone talking shooting except   \n",
       "39999           1                                                lib   \n",
       "\n",
       "                                           clean_content  extreme  \\\n",
       "0                                    offici slogan pepsi        0   \n",
       "1                                             took freed        1   \n",
       "2                              tribe complet free speech        1   \n",
       "3      accid crown queen alreadi warren other get pla...        1   \n",
       "4                                          fuck love man        1   \n",
       "...                                                  ...      ...   \n",
       "39995  haha yeah i'm sure realli influenti stark rave...        1   \n",
       "39996   woah know sound kinda sound like potenti problem        0   \n",
       "39997  actual care man use argument even call acciden...        1   \n",
       "39998                        see anyon talk shoot except        0   \n",
       "39999                                                lib        1   \n",
       "\n",
       "                                              adjectives  \\\n",
       "0                                             [official]   \n",
       "1                                                     []   \n",
       "2                                                 [free]   \n",
       "3                                                     []   \n",
       "4                                              [fucking]   \n",
       "...                                                  ...   \n",
       "39995  [sure, influential, stark, mad, communist, big...   \n",
       "39996                                 [sound, potential]   \n",
       "39997                                                 []   \n",
       "39998                                                 []   \n",
       "39999                                                 []   \n",
       "\n",
       "                                              adj_string  \n",
       "0                                               official  \n",
       "1                                                         \n",
       "2                                                   free  \n",
       "3                                                         \n",
       "4                                                fucking  \n",
       "...                                                  ...  \n",
       "39995  sure influential stark mad communist big speak...  \n",
       "39996                                    sound potential  \n",
       "39997                                                     \n",
       "39998                                                     \n",
       "39999                                                     \n",
       "\n",
       "[39725 rows x 8 columns]"
      ]
     },
     "execution_count": 59,
     "metadata": {},
     "output_type": "execute_result"
    }
   ],
   "source": [
    "data"
   ]
  },
  {
   "cell_type": "code",
   "execution_count": 60,
   "metadata": {},
   "outputs": [],
   "source": [
    "# save to csv for modeling in the next notebook-\n",
    "\n",
    "data.to_csv('./data/subs_to_model.csv', index=False)"
   ]
  },
  {
   "cell_type": "code",
   "execution_count": null,
   "metadata": {},
   "outputs": [],
   "source": []
  }
 ],
 "metadata": {
  "kernelspec": {
   "display_name": "Python 3",
   "language": "python",
   "name": "python3"
  },
  "language_info": {
   "codemirror_mode": {
    "name": "ipython",
    "version": 3
   },
   "file_extension": ".py",
   "mimetype": "text/x-python",
   "name": "python",
   "nbconvert_exporter": "python",
   "pygments_lexer": "ipython3",
   "version": "3.8.5"
  }
 },
 "nbformat": 4,
 "nbformat_minor": 4
}
